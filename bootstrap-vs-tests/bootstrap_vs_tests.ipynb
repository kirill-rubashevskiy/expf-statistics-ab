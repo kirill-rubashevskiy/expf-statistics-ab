{
  "nbformat": 4,
  "nbformat_minor": 0,
  "metadata": {
    "colab": {
      "provenance": [],
      "authorship_tag": "ABX9TyNUb5bEnHRPiudgFLE8KrZK",
      "include_colab_link": true
    },
    "kernelspec": {
      "name": "python3",
      "display_name": "Python 3"
    },
    "language_info": {
      "name": "python"
    },
    "widgets": {
      "application/vnd.jupyter.widget-state+json": {
        "f3015570676e4e6eb2ca89d60b37acf8": {
          "model_module": "@jupyter-widgets/controls",
          "model_name": "HBoxModel",
          "model_module_version": "1.5.0",
          "state": {
            "_dom_classes": [],
            "_model_module": "@jupyter-widgets/controls",
            "_model_module_version": "1.5.0",
            "_model_name": "HBoxModel",
            "_view_count": null,
            "_view_module": "@jupyter-widgets/controls",
            "_view_module_version": "1.5.0",
            "_view_name": "HBoxView",
            "box_style": "",
            "children": [
              "IPY_MODEL_a8e49e12b8b849a4a7dc98de511d90c4",
              "IPY_MODEL_ffd5cb23925b42adb209a54e27aa364a",
              "IPY_MODEL_79295d7026e6488b880c304592f48ed0"
            ],
            "layout": "IPY_MODEL_d04f62cf6ef54837acc9f3a9787db234"
          }
        },
        "a8e49e12b8b849a4a7dc98de511d90c4": {
          "model_module": "@jupyter-widgets/controls",
          "model_name": "HTMLModel",
          "model_module_version": "1.5.0",
          "state": {
            "_dom_classes": [],
            "_model_module": "@jupyter-widgets/controls",
            "_model_module_version": "1.5.0",
            "_model_name": "HTMLModel",
            "_view_count": null,
            "_view_module": "@jupyter-widgets/controls",
            "_view_module_version": "1.5.0",
            "_view_name": "HTMLView",
            "description": "",
            "description_tooltip": null,
            "layout": "IPY_MODEL_03d4e3b386f748388f5a2062c244b335",
            "placeholder": "​",
            "style": "IPY_MODEL_5ab804648577410b92a45482b8e43e1d",
            "value": "100%"
          }
        },
        "ffd5cb23925b42adb209a54e27aa364a": {
          "model_module": "@jupyter-widgets/controls",
          "model_name": "FloatProgressModel",
          "model_module_version": "1.5.0",
          "state": {
            "_dom_classes": [],
            "_model_module": "@jupyter-widgets/controls",
            "_model_module_version": "1.5.0",
            "_model_name": "FloatProgressModel",
            "_view_count": null,
            "_view_module": "@jupyter-widgets/controls",
            "_view_module_version": "1.5.0",
            "_view_name": "ProgressView",
            "bar_style": "success",
            "description": "",
            "description_tooltip": null,
            "layout": "IPY_MODEL_75dffb3c56e545c3b799ab462df0f2bd",
            "max": 1000,
            "min": 0,
            "orientation": "horizontal",
            "style": "IPY_MODEL_d4bb0bc1d20843d5a96b6fd191507cd5",
            "value": 1000
          }
        },
        "79295d7026e6488b880c304592f48ed0": {
          "model_module": "@jupyter-widgets/controls",
          "model_name": "HTMLModel",
          "model_module_version": "1.5.0",
          "state": {
            "_dom_classes": [],
            "_model_module": "@jupyter-widgets/controls",
            "_model_module_version": "1.5.0",
            "_model_name": "HTMLModel",
            "_view_count": null,
            "_view_module": "@jupyter-widgets/controls",
            "_view_module_version": "1.5.0",
            "_view_name": "HTMLView",
            "description": "",
            "description_tooltip": null,
            "layout": "IPY_MODEL_ab7d3157462d4c6c891e5d0e47b15451",
            "placeholder": "​",
            "style": "IPY_MODEL_d9f83495cba140beaa202945929832f4",
            "value": " 1000/1000 [00:00&lt;00:00, 1746.90it/s]"
          }
        },
        "d04f62cf6ef54837acc9f3a9787db234": {
          "model_module": "@jupyter-widgets/base",
          "model_name": "LayoutModel",
          "model_module_version": "1.2.0",
          "state": {
            "_model_module": "@jupyter-widgets/base",
            "_model_module_version": "1.2.0",
            "_model_name": "LayoutModel",
            "_view_count": null,
            "_view_module": "@jupyter-widgets/base",
            "_view_module_version": "1.2.0",
            "_view_name": "LayoutView",
            "align_content": null,
            "align_items": null,
            "align_self": null,
            "border": null,
            "bottom": null,
            "display": null,
            "flex": null,
            "flex_flow": null,
            "grid_area": null,
            "grid_auto_columns": null,
            "grid_auto_flow": null,
            "grid_auto_rows": null,
            "grid_column": null,
            "grid_gap": null,
            "grid_row": null,
            "grid_template_areas": null,
            "grid_template_columns": null,
            "grid_template_rows": null,
            "height": null,
            "justify_content": null,
            "justify_items": null,
            "left": null,
            "margin": null,
            "max_height": null,
            "max_width": null,
            "min_height": null,
            "min_width": null,
            "object_fit": null,
            "object_position": null,
            "order": null,
            "overflow": null,
            "overflow_x": null,
            "overflow_y": null,
            "padding": null,
            "right": null,
            "top": null,
            "visibility": null,
            "width": null
          }
        },
        "03d4e3b386f748388f5a2062c244b335": {
          "model_module": "@jupyter-widgets/base",
          "model_name": "LayoutModel",
          "model_module_version": "1.2.0",
          "state": {
            "_model_module": "@jupyter-widgets/base",
            "_model_module_version": "1.2.0",
            "_model_name": "LayoutModel",
            "_view_count": null,
            "_view_module": "@jupyter-widgets/base",
            "_view_module_version": "1.2.0",
            "_view_name": "LayoutView",
            "align_content": null,
            "align_items": null,
            "align_self": null,
            "border": null,
            "bottom": null,
            "display": null,
            "flex": null,
            "flex_flow": null,
            "grid_area": null,
            "grid_auto_columns": null,
            "grid_auto_flow": null,
            "grid_auto_rows": null,
            "grid_column": null,
            "grid_gap": null,
            "grid_row": null,
            "grid_template_areas": null,
            "grid_template_columns": null,
            "grid_template_rows": null,
            "height": null,
            "justify_content": null,
            "justify_items": null,
            "left": null,
            "margin": null,
            "max_height": null,
            "max_width": null,
            "min_height": null,
            "min_width": null,
            "object_fit": null,
            "object_position": null,
            "order": null,
            "overflow": null,
            "overflow_x": null,
            "overflow_y": null,
            "padding": null,
            "right": null,
            "top": null,
            "visibility": null,
            "width": null
          }
        },
        "5ab804648577410b92a45482b8e43e1d": {
          "model_module": "@jupyter-widgets/controls",
          "model_name": "DescriptionStyleModel",
          "model_module_version": "1.5.0",
          "state": {
            "_model_module": "@jupyter-widgets/controls",
            "_model_module_version": "1.5.0",
            "_model_name": "DescriptionStyleModel",
            "_view_count": null,
            "_view_module": "@jupyter-widgets/base",
            "_view_module_version": "1.2.0",
            "_view_name": "StyleView",
            "description_width": ""
          }
        },
        "75dffb3c56e545c3b799ab462df0f2bd": {
          "model_module": "@jupyter-widgets/base",
          "model_name": "LayoutModel",
          "model_module_version": "1.2.0",
          "state": {
            "_model_module": "@jupyter-widgets/base",
            "_model_module_version": "1.2.0",
            "_model_name": "LayoutModel",
            "_view_count": null,
            "_view_module": "@jupyter-widgets/base",
            "_view_module_version": "1.2.0",
            "_view_name": "LayoutView",
            "align_content": null,
            "align_items": null,
            "align_self": null,
            "border": null,
            "bottom": null,
            "display": null,
            "flex": null,
            "flex_flow": null,
            "grid_area": null,
            "grid_auto_columns": null,
            "grid_auto_flow": null,
            "grid_auto_rows": null,
            "grid_column": null,
            "grid_gap": null,
            "grid_row": null,
            "grid_template_areas": null,
            "grid_template_columns": null,
            "grid_template_rows": null,
            "height": null,
            "justify_content": null,
            "justify_items": null,
            "left": null,
            "margin": null,
            "max_height": null,
            "max_width": null,
            "min_height": null,
            "min_width": null,
            "object_fit": null,
            "object_position": null,
            "order": null,
            "overflow": null,
            "overflow_x": null,
            "overflow_y": null,
            "padding": null,
            "right": null,
            "top": null,
            "visibility": null,
            "width": null
          }
        },
        "d4bb0bc1d20843d5a96b6fd191507cd5": {
          "model_module": "@jupyter-widgets/controls",
          "model_name": "ProgressStyleModel",
          "model_module_version": "1.5.0",
          "state": {
            "_model_module": "@jupyter-widgets/controls",
            "_model_module_version": "1.5.0",
            "_model_name": "ProgressStyleModel",
            "_view_count": null,
            "_view_module": "@jupyter-widgets/base",
            "_view_module_version": "1.2.0",
            "_view_name": "StyleView",
            "bar_color": null,
            "description_width": ""
          }
        },
        "ab7d3157462d4c6c891e5d0e47b15451": {
          "model_module": "@jupyter-widgets/base",
          "model_name": "LayoutModel",
          "model_module_version": "1.2.0",
          "state": {
            "_model_module": "@jupyter-widgets/base",
            "_model_module_version": "1.2.0",
            "_model_name": "LayoutModel",
            "_view_count": null,
            "_view_module": "@jupyter-widgets/base",
            "_view_module_version": "1.2.0",
            "_view_name": "LayoutView",
            "align_content": null,
            "align_items": null,
            "align_self": null,
            "border": null,
            "bottom": null,
            "display": null,
            "flex": null,
            "flex_flow": null,
            "grid_area": null,
            "grid_auto_columns": null,
            "grid_auto_flow": null,
            "grid_auto_rows": null,
            "grid_column": null,
            "grid_gap": null,
            "grid_row": null,
            "grid_template_areas": null,
            "grid_template_columns": null,
            "grid_template_rows": null,
            "height": null,
            "justify_content": null,
            "justify_items": null,
            "left": null,
            "margin": null,
            "max_height": null,
            "max_width": null,
            "min_height": null,
            "min_width": null,
            "object_fit": null,
            "object_position": null,
            "order": null,
            "overflow": null,
            "overflow_x": null,
            "overflow_y": null,
            "padding": null,
            "right": null,
            "top": null,
            "visibility": null,
            "width": null
          }
        },
        "d9f83495cba140beaa202945929832f4": {
          "model_module": "@jupyter-widgets/controls",
          "model_name": "DescriptionStyleModel",
          "model_module_version": "1.5.0",
          "state": {
            "_model_module": "@jupyter-widgets/controls",
            "_model_module_version": "1.5.0",
            "_model_name": "DescriptionStyleModel",
            "_view_count": null,
            "_view_module": "@jupyter-widgets/base",
            "_view_module_version": "1.2.0",
            "_view_name": "StyleView",
            "description_width": ""
          }
        },
        "a28fee44b56b441cb231a53bd84c35d8": {
          "model_module": "@jupyter-widgets/controls",
          "model_name": "HBoxModel",
          "model_module_version": "1.5.0",
          "state": {
            "_dom_classes": [],
            "_model_module": "@jupyter-widgets/controls",
            "_model_module_version": "1.5.0",
            "_model_name": "HBoxModel",
            "_view_count": null,
            "_view_module": "@jupyter-widgets/controls",
            "_view_module_version": "1.5.0",
            "_view_name": "HBoxView",
            "box_style": "",
            "children": [
              "IPY_MODEL_a130713ad40c4df0b6d5a0cf17cf6a43",
              "IPY_MODEL_1e40f4b458174331aee053442deeb544",
              "IPY_MODEL_e5a8b7bb72b4473e8c3776745d2aea55"
            ],
            "layout": "IPY_MODEL_c46d728d1b9241ecb858604cb48db9c7"
          }
        },
        "a130713ad40c4df0b6d5a0cf17cf6a43": {
          "model_module": "@jupyter-widgets/controls",
          "model_name": "HTMLModel",
          "model_module_version": "1.5.0",
          "state": {
            "_dom_classes": [],
            "_model_module": "@jupyter-widgets/controls",
            "_model_module_version": "1.5.0",
            "_model_name": "HTMLModel",
            "_view_count": null,
            "_view_module": "@jupyter-widgets/controls",
            "_view_module_version": "1.5.0",
            "_view_name": "HTMLView",
            "description": "",
            "description_tooltip": null,
            "layout": "IPY_MODEL_1979f1a7e2b24f419ea0c5db96d7921e",
            "placeholder": "​",
            "style": "IPY_MODEL_b8f748c78d8447baac18a1b1a7cfd645",
            "value": "100%"
          }
        },
        "1e40f4b458174331aee053442deeb544": {
          "model_module": "@jupyter-widgets/controls",
          "model_name": "FloatProgressModel",
          "model_module_version": "1.5.0",
          "state": {
            "_dom_classes": [],
            "_model_module": "@jupyter-widgets/controls",
            "_model_module_version": "1.5.0",
            "_model_name": "FloatProgressModel",
            "_view_count": null,
            "_view_module": "@jupyter-widgets/controls",
            "_view_module_version": "1.5.0",
            "_view_name": "ProgressView",
            "bar_style": "success",
            "description": "",
            "description_tooltip": null,
            "layout": "IPY_MODEL_5a8936e84e554932ba98b563fee6028a",
            "max": 1000,
            "min": 0,
            "orientation": "horizontal",
            "style": "IPY_MODEL_ff3b6a32cc384f1397b5e96c6dbcb803",
            "value": 1000
          }
        },
        "e5a8b7bb72b4473e8c3776745d2aea55": {
          "model_module": "@jupyter-widgets/controls",
          "model_name": "HTMLModel",
          "model_module_version": "1.5.0",
          "state": {
            "_dom_classes": [],
            "_model_module": "@jupyter-widgets/controls",
            "_model_module_version": "1.5.0",
            "_model_name": "HTMLModel",
            "_view_count": null,
            "_view_module": "@jupyter-widgets/controls",
            "_view_module_version": "1.5.0",
            "_view_name": "HTMLView",
            "description": "",
            "description_tooltip": null,
            "layout": "IPY_MODEL_f1850ae7d12b4effa14d3e388089da42",
            "placeholder": "​",
            "style": "IPY_MODEL_57f81046342c42c9b2f29da4d3fe2a26",
            "value": " 1000/1000 [00:00&lt;00:00, 1450.49it/s]"
          }
        },
        "c46d728d1b9241ecb858604cb48db9c7": {
          "model_module": "@jupyter-widgets/base",
          "model_name": "LayoutModel",
          "model_module_version": "1.2.0",
          "state": {
            "_model_module": "@jupyter-widgets/base",
            "_model_module_version": "1.2.0",
            "_model_name": "LayoutModel",
            "_view_count": null,
            "_view_module": "@jupyter-widgets/base",
            "_view_module_version": "1.2.0",
            "_view_name": "LayoutView",
            "align_content": null,
            "align_items": null,
            "align_self": null,
            "border": null,
            "bottom": null,
            "display": null,
            "flex": null,
            "flex_flow": null,
            "grid_area": null,
            "grid_auto_columns": null,
            "grid_auto_flow": null,
            "grid_auto_rows": null,
            "grid_column": null,
            "grid_gap": null,
            "grid_row": null,
            "grid_template_areas": null,
            "grid_template_columns": null,
            "grid_template_rows": null,
            "height": null,
            "justify_content": null,
            "justify_items": null,
            "left": null,
            "margin": null,
            "max_height": null,
            "max_width": null,
            "min_height": null,
            "min_width": null,
            "object_fit": null,
            "object_position": null,
            "order": null,
            "overflow": null,
            "overflow_x": null,
            "overflow_y": null,
            "padding": null,
            "right": null,
            "top": null,
            "visibility": null,
            "width": null
          }
        },
        "1979f1a7e2b24f419ea0c5db96d7921e": {
          "model_module": "@jupyter-widgets/base",
          "model_name": "LayoutModel",
          "model_module_version": "1.2.0",
          "state": {
            "_model_module": "@jupyter-widgets/base",
            "_model_module_version": "1.2.0",
            "_model_name": "LayoutModel",
            "_view_count": null,
            "_view_module": "@jupyter-widgets/base",
            "_view_module_version": "1.2.0",
            "_view_name": "LayoutView",
            "align_content": null,
            "align_items": null,
            "align_self": null,
            "border": null,
            "bottom": null,
            "display": null,
            "flex": null,
            "flex_flow": null,
            "grid_area": null,
            "grid_auto_columns": null,
            "grid_auto_flow": null,
            "grid_auto_rows": null,
            "grid_column": null,
            "grid_gap": null,
            "grid_row": null,
            "grid_template_areas": null,
            "grid_template_columns": null,
            "grid_template_rows": null,
            "height": null,
            "justify_content": null,
            "justify_items": null,
            "left": null,
            "margin": null,
            "max_height": null,
            "max_width": null,
            "min_height": null,
            "min_width": null,
            "object_fit": null,
            "object_position": null,
            "order": null,
            "overflow": null,
            "overflow_x": null,
            "overflow_y": null,
            "padding": null,
            "right": null,
            "top": null,
            "visibility": null,
            "width": null
          }
        },
        "b8f748c78d8447baac18a1b1a7cfd645": {
          "model_module": "@jupyter-widgets/controls",
          "model_name": "DescriptionStyleModel",
          "model_module_version": "1.5.0",
          "state": {
            "_model_module": "@jupyter-widgets/controls",
            "_model_module_version": "1.5.0",
            "_model_name": "DescriptionStyleModel",
            "_view_count": null,
            "_view_module": "@jupyter-widgets/base",
            "_view_module_version": "1.2.0",
            "_view_name": "StyleView",
            "description_width": ""
          }
        },
        "5a8936e84e554932ba98b563fee6028a": {
          "model_module": "@jupyter-widgets/base",
          "model_name": "LayoutModel",
          "model_module_version": "1.2.0",
          "state": {
            "_model_module": "@jupyter-widgets/base",
            "_model_module_version": "1.2.0",
            "_model_name": "LayoutModel",
            "_view_count": null,
            "_view_module": "@jupyter-widgets/base",
            "_view_module_version": "1.2.0",
            "_view_name": "LayoutView",
            "align_content": null,
            "align_items": null,
            "align_self": null,
            "border": null,
            "bottom": null,
            "display": null,
            "flex": null,
            "flex_flow": null,
            "grid_area": null,
            "grid_auto_columns": null,
            "grid_auto_flow": null,
            "grid_auto_rows": null,
            "grid_column": null,
            "grid_gap": null,
            "grid_row": null,
            "grid_template_areas": null,
            "grid_template_columns": null,
            "grid_template_rows": null,
            "height": null,
            "justify_content": null,
            "justify_items": null,
            "left": null,
            "margin": null,
            "max_height": null,
            "max_width": null,
            "min_height": null,
            "min_width": null,
            "object_fit": null,
            "object_position": null,
            "order": null,
            "overflow": null,
            "overflow_x": null,
            "overflow_y": null,
            "padding": null,
            "right": null,
            "top": null,
            "visibility": null,
            "width": null
          }
        },
        "ff3b6a32cc384f1397b5e96c6dbcb803": {
          "model_module": "@jupyter-widgets/controls",
          "model_name": "ProgressStyleModel",
          "model_module_version": "1.5.0",
          "state": {
            "_model_module": "@jupyter-widgets/controls",
            "_model_module_version": "1.5.0",
            "_model_name": "ProgressStyleModel",
            "_view_count": null,
            "_view_module": "@jupyter-widgets/base",
            "_view_module_version": "1.2.0",
            "_view_name": "StyleView",
            "bar_color": null,
            "description_width": ""
          }
        },
        "f1850ae7d12b4effa14d3e388089da42": {
          "model_module": "@jupyter-widgets/base",
          "model_name": "LayoutModel",
          "model_module_version": "1.2.0",
          "state": {
            "_model_module": "@jupyter-widgets/base",
            "_model_module_version": "1.2.0",
            "_model_name": "LayoutModel",
            "_view_count": null,
            "_view_module": "@jupyter-widgets/base",
            "_view_module_version": "1.2.0",
            "_view_name": "LayoutView",
            "align_content": null,
            "align_items": null,
            "align_self": null,
            "border": null,
            "bottom": null,
            "display": null,
            "flex": null,
            "flex_flow": null,
            "grid_area": null,
            "grid_auto_columns": null,
            "grid_auto_flow": null,
            "grid_auto_rows": null,
            "grid_column": null,
            "grid_gap": null,
            "grid_row": null,
            "grid_template_areas": null,
            "grid_template_columns": null,
            "grid_template_rows": null,
            "height": null,
            "justify_content": null,
            "justify_items": null,
            "left": null,
            "margin": null,
            "max_height": null,
            "max_width": null,
            "min_height": null,
            "min_width": null,
            "object_fit": null,
            "object_position": null,
            "order": null,
            "overflow": null,
            "overflow_x": null,
            "overflow_y": null,
            "padding": null,
            "right": null,
            "top": null,
            "visibility": null,
            "width": null
          }
        },
        "57f81046342c42c9b2f29da4d3fe2a26": {
          "model_module": "@jupyter-widgets/controls",
          "model_name": "DescriptionStyleModel",
          "model_module_version": "1.5.0",
          "state": {
            "_model_module": "@jupyter-widgets/controls",
            "_model_module_version": "1.5.0",
            "_model_name": "DescriptionStyleModel",
            "_view_count": null,
            "_view_module": "@jupyter-widgets/base",
            "_view_module_version": "1.2.0",
            "_view_name": "StyleView",
            "description_width": ""
          }
        }
      }
    }
  },
  "cells": [
    {
      "cell_type": "markdown",
      "metadata": {
        "id": "view-in-github",
        "colab_type": "text"
      },
      "source": [
        "<a href=\"https://colab.research.google.com/github/kirill-rubashevskiy/expf-statistics-ab/blob/main/bootstrap-vs-tests/bootstrap_vs_tests.ipynb\" target=\"_parent\"><img src=\"https://colab.research.google.com/assets/colab-badge.svg\" alt=\"Open In Colab\"/></a>"
      ]
    },
    {
      "cell_type": "markdown",
      "source": [
        "# Бутстрап vs t- и u-тесты"
      ],
      "metadata": {
        "id": "HkSJrGUvG21w"
      }
    },
    {
      "cell_type": "markdown",
      "source": [
        "## Описание данных"
      ],
      "metadata": {
        "id": "OqFL8IyDho23"
      }
    },
    {
      "cell_type": "markdown",
      "source": [
        "- `value` – значения;\n",
        "- `experimentVariant` – вариант теста:\n",
        "    - `Control` – контроль;\n",
        "    - `Treatment` – тест."
      ],
      "metadata": {
        "id": "3nuqUj6UhstO"
      }
    },
    {
      "cell_type": "markdown",
      "source": [
        "## Задача"
      ],
      "metadata": {
        "id": "-hIhwIBXh2FP"
      }
    },
    {
      "cell_type": "markdown",
      "source": [
        "Сравнить результаты:\n",
        "- t-теста vs бутстрапа средних;\n",
        "- u-теста vs бутстрапа медиан."
      ],
      "metadata": {
        "id": "2e1pYvceh0Ji"
      }
    },
    {
      "cell_type": "markdown",
      "source": [
        "## Подготовка к работе"
      ],
      "metadata": {
        "id": "AocqqTAriUc8"
      }
    },
    {
      "cell_type": "code",
      "execution_count": 1,
      "metadata": {
        "id": "mpdSX0YtGMtj"
      },
      "outputs": [],
      "source": [
        "# импорт библиотек\n",
        "\n",
        "# общие, работа с данными\n",
        "import os\n",
        "import six\n",
        "import numpy as np\n",
        "import pandas as pd\n",
        "from tqdm.auto import tqdm\n",
        "\n",
        "# визуализация данных\n",
        "import seaborn as sns\n",
        "import matplotlib.pyplot as plt\n",
        "\n",
        "# статистическая проверка гипотез\n",
        "from scipy.stats import norm, mannwhitneyu, ttest_ind"
      ]
    },
    {
      "cell_type": "code",
      "source": [
        "# настройка отображения графиков\n",
        "plt.style.use('fivethirtyeight')"
      ],
      "metadata": {
        "id": "4VcjglJeHM_n"
      },
      "execution_count": 2,
      "outputs": []
    },
    {
      "cell_type": "markdown",
      "source": [
        "## Загрузка данных"
      ],
      "metadata": {
        "id": "ldF2FTT9H1UZ"
      }
    },
    {
      "cell_type": "code",
      "source": [
        "# подключение google drive\n",
        "from google.colab import drive\n",
        "drive.mount('/content/drive')"
      ],
      "metadata": {
        "colab": {
          "base_uri": "https://localhost:8080/"
        },
        "id": "a1UDdQnGHPEb",
        "outputId": "66031fc3-ca57-48a4-8343-af449a82c969"
      },
      "execution_count": 3,
      "outputs": [
        {
          "output_type": "stream",
          "name": "stdout",
          "text": [
            "Drive already mounted at /content/drive; to attempt to forcibly remount, call drive.mount(\"/content/drive\", force_remount=True).\n"
          ]
        }
      ]
    },
    {
      "cell_type": "code",
      "source": [
        "# указание пути к данным\n",
        "PATH = '/content/drive/MyDrive/expf/bootstrap-vs-tests'"
      ],
      "metadata": {
        "id": "ZvWjYXDjHQ_8"
      },
      "execution_count": 4,
      "outputs": []
    },
    {
      "cell_type": "code",
      "source": [
        "# чтение данных\n",
        "data = pd.read_csv(filepath_or_buffer = os.path.join(PATH, 'hw5.csv'),\n",
        "                   sep                = ';',\n",
        "                   index_col          = 0,\n",
        "                   decimal            = ',')"
      ],
      "metadata": {
        "id": "SjbxyBnhHViO"
      },
      "execution_count": 5,
      "outputs": []
    },
    {
      "cell_type": "code",
      "source": [
        "# вывод на экран первых пяти строк датасета\n",
        "data.head(5)"
      ],
      "metadata": {
        "colab": {
          "base_uri": "https://localhost:8080/",
          "height": 206
        },
        "id": "32xID5a2HbBK",
        "outputId": "818b3557-d310-4d6b-f0c3-92044e893a0e"
      },
      "execution_count": 6,
      "outputs": [
        {
          "output_type": "execute_result",
          "data": {
            "text/plain": [
              "       value experimentVariant\n",
              "1   9.773113         Treatment\n",
              "2   9.311246         Treatment\n",
              "3  11.172828         Treatment\n",
              "4  11.624510         Treatment\n",
              "5  10.462331         Treatment"
            ],
            "text/html": [
              "\n",
              "  <div id=\"df-022e127d-b878-46ed-9c20-2ffb9c815052\">\n",
              "    <div class=\"colab-df-container\">\n",
              "      <div>\n",
              "<style scoped>\n",
              "    .dataframe tbody tr th:only-of-type {\n",
              "        vertical-align: middle;\n",
              "    }\n",
              "\n",
              "    .dataframe tbody tr th {\n",
              "        vertical-align: top;\n",
              "    }\n",
              "\n",
              "    .dataframe thead th {\n",
              "        text-align: right;\n",
              "    }\n",
              "</style>\n",
              "<table border=\"1\" class=\"dataframe\">\n",
              "  <thead>\n",
              "    <tr style=\"text-align: right;\">\n",
              "      <th></th>\n",
              "      <th>value</th>\n",
              "      <th>experimentVariant</th>\n",
              "    </tr>\n",
              "  </thead>\n",
              "  <tbody>\n",
              "    <tr>\n",
              "      <th>1</th>\n",
              "      <td>9.773113</td>\n",
              "      <td>Treatment</td>\n",
              "    </tr>\n",
              "    <tr>\n",
              "      <th>2</th>\n",
              "      <td>9.311246</td>\n",
              "      <td>Treatment</td>\n",
              "    </tr>\n",
              "    <tr>\n",
              "      <th>3</th>\n",
              "      <td>11.172828</td>\n",
              "      <td>Treatment</td>\n",
              "    </tr>\n",
              "    <tr>\n",
              "      <th>4</th>\n",
              "      <td>11.624510</td>\n",
              "      <td>Treatment</td>\n",
              "    </tr>\n",
              "    <tr>\n",
              "      <th>5</th>\n",
              "      <td>10.462331</td>\n",
              "      <td>Treatment</td>\n",
              "    </tr>\n",
              "  </tbody>\n",
              "</table>\n",
              "</div>\n",
              "      <button class=\"colab-df-convert\" onclick=\"convertToInteractive('df-022e127d-b878-46ed-9c20-2ffb9c815052')\"\n",
              "              title=\"Convert this dataframe to an interactive table.\"\n",
              "              style=\"display:none;\">\n",
              "        \n",
              "  <svg xmlns=\"http://www.w3.org/2000/svg\" height=\"24px\"viewBox=\"0 0 24 24\"\n",
              "       width=\"24px\">\n",
              "    <path d=\"M0 0h24v24H0V0z\" fill=\"none\"/>\n",
              "    <path d=\"M18.56 5.44l.94 2.06.94-2.06 2.06-.94-2.06-.94-.94-2.06-.94 2.06-2.06.94zm-11 1L8.5 8.5l.94-2.06 2.06-.94-2.06-.94L8.5 2.5l-.94 2.06-2.06.94zm10 10l.94 2.06.94-2.06 2.06-.94-2.06-.94-.94-2.06-.94 2.06-2.06.94z\"/><path d=\"M17.41 7.96l-1.37-1.37c-.4-.4-.92-.59-1.43-.59-.52 0-1.04.2-1.43.59L10.3 9.45l-7.72 7.72c-.78.78-.78 2.05 0 2.83L4 21.41c.39.39.9.59 1.41.59.51 0 1.02-.2 1.41-.59l7.78-7.78 2.81-2.81c.8-.78.8-2.07 0-2.86zM5.41 20L4 18.59l7.72-7.72 1.47 1.35L5.41 20z\"/>\n",
              "  </svg>\n",
              "      </button>\n",
              "      \n",
              "  <style>\n",
              "    .colab-df-container {\n",
              "      display:flex;\n",
              "      flex-wrap:wrap;\n",
              "      gap: 12px;\n",
              "    }\n",
              "\n",
              "    .colab-df-convert {\n",
              "      background-color: #E8F0FE;\n",
              "      border: none;\n",
              "      border-radius: 50%;\n",
              "      cursor: pointer;\n",
              "      display: none;\n",
              "      fill: #1967D2;\n",
              "      height: 32px;\n",
              "      padding: 0 0 0 0;\n",
              "      width: 32px;\n",
              "    }\n",
              "\n",
              "    .colab-df-convert:hover {\n",
              "      background-color: #E2EBFA;\n",
              "      box-shadow: 0px 1px 2px rgba(60, 64, 67, 0.3), 0px 1px 3px 1px rgba(60, 64, 67, 0.15);\n",
              "      fill: #174EA6;\n",
              "    }\n",
              "\n",
              "    [theme=dark] .colab-df-convert {\n",
              "      background-color: #3B4455;\n",
              "      fill: #D2E3FC;\n",
              "    }\n",
              "\n",
              "    [theme=dark] .colab-df-convert:hover {\n",
              "      background-color: #434B5C;\n",
              "      box-shadow: 0px 1px 3px 1px rgba(0, 0, 0, 0.15);\n",
              "      filter: drop-shadow(0px 1px 2px rgba(0, 0, 0, 0.3));\n",
              "      fill: #FFFFFF;\n",
              "    }\n",
              "  </style>\n",
              "\n",
              "      <script>\n",
              "        const buttonEl =\n",
              "          document.querySelector('#df-022e127d-b878-46ed-9c20-2ffb9c815052 button.colab-df-convert');\n",
              "        buttonEl.style.display =\n",
              "          google.colab.kernel.accessAllowed ? 'block' : 'none';\n",
              "\n",
              "        async function convertToInteractive(key) {\n",
              "          const element = document.querySelector('#df-022e127d-b878-46ed-9c20-2ffb9c815052');\n",
              "          const dataTable =\n",
              "            await google.colab.kernel.invokeFunction('convertToInteractive',\n",
              "                                                     [key], {});\n",
              "          if (!dataTable) return;\n",
              "\n",
              "          const docLinkHtml = 'Like what you see? Visit the ' +\n",
              "            '<a target=\"_blank\" href=https://colab.research.google.com/notebooks/data_table.ipynb>data table notebook</a>'\n",
              "            + ' to learn more about interactive tables.';\n",
              "          element.innerHTML = '';\n",
              "          dataTable['output_type'] = 'display_data';\n",
              "          await google.colab.output.renderOutput(dataTable, element);\n",
              "          const docLink = document.createElement('div');\n",
              "          docLink.innerHTML = docLinkHtml;\n",
              "          element.appendChild(docLink);\n",
              "        }\n",
              "      </script>\n",
              "    </div>\n",
              "  </div>\n",
              "  "
            ]
          },
          "metadata": {},
          "execution_count": 6
        }
      ]
    },
    {
      "cell_type": "code",
      "source": [
        "# вывод на экран общей информации о датасете\n",
        "data.info()"
      ],
      "metadata": {
        "colab": {
          "base_uri": "https://localhost:8080/"
        },
        "id": "5PZgqFyoLsew",
        "outputId": "d645d486-db78-4abd-a6de-165367c446bb"
      },
      "execution_count": 7,
      "outputs": [
        {
          "output_type": "stream",
          "name": "stdout",
          "text": [
            "<class 'pandas.core.frame.DataFrame'>\n",
            "Int64Index: 550 entries, 1 to 550\n",
            "Data columns (total 2 columns):\n",
            " #   Column             Non-Null Count  Dtype  \n",
            "---  ------             --------------  -----  \n",
            " 0   value              550 non-null    float64\n",
            " 1   experimentVariant  550 non-null    object \n",
            "dtypes: float64(1), object(1)\n",
            "memory usage: 12.9+ KB\n"
          ]
        }
      ]
    },
    {
      "cell_type": "markdown",
      "source": [
        "## EDA"
      ],
      "metadata": {
        "id": "Y2GNweqIqDdQ"
      }
    },
    {
      "cell_type": "code",
      "source": [
        "# вывод на экран графика количества объектов в каждом варианте теста\n",
        "fig = plt.subplots(figsize = (5, 5))\n",
        "\n",
        "sns.countplot(data = data,\n",
        "              x    = 'experimentVariant')\n",
        "\n",
        "plt.suptitle('Number of Objects per Variant', fontsize = 16, fontweight = 'bold')\n",
        "\n",
        "plt.tight_layout()\n",
        "plt.show()"
      ],
      "metadata": {
        "colab": {
          "base_uri": "https://localhost:8080/",
          "height": 505
        },
        "id": "jKCdrauiafW8",
        "outputId": "e818b2f4-9c2b-46cc-c90e-8267f8ac21f7"
      },
      "execution_count": 8,
      "outputs": [
        {
          "output_type": "display_data",
          "data": {
            "text/plain": [
              "<Figure size 500x500 with 1 Axes>"
            ],
            "image/png": "[encoded data removed]"
          },
          "metadata": {}
        }
      ]
    },
    {
      "cell_type": "markdown",
      "source": [
        "- соотношение объектов в контрольном и тестовом вариантах 9 к 1\n",
        "- в варианте `Treatment` меньше объектов, так что можно ожидать более широкий доверительный интервал значений value"
      ],
      "metadata": {
        "id": "X-5fIGX5blge"
      }
    },
    {
      "cell_type": "code",
      "source": [
        "# вывод на экран графиков и статистик распределения значений\n",
        "# в зависимости от варианта теста\n",
        "fig, ax = plt.subplots(nrows   = 1,\n",
        "                       ncols   = 2,\n",
        "                       figsize = (12, 4.5))\n",
        "\n",
        "ax = ax.flatten()\n",
        "\n",
        "cis_left = []\n",
        "cis_right = []\n",
        "\n",
        "for variant in data.experimentVariant.unique():\n",
        "    variant_data = data[data.experimentVariant == variant]\n",
        "    mean_ = np.mean(variant_data.value)\n",
        "    std_ = np.std(variant_data.value, ddof = 1)\n",
        "    se_   = std_ / np.sqrt(len(variant_data))\n",
        "\n",
        "    g = sns.kdeplot(data = variant_data,\n",
        "                    x    = 'value',\n",
        "                    ax = ax[0])\n",
        "\n",
        "    x = g.lines[-1].get_xdata()\n",
        "    y = g.lines[-1].get_ydata()\n",
        "\n",
        "    ci_left = mean_ - se_ * 2\n",
        "    ci_right = mean_ + se_ * 2\n",
        "\n",
        "    cis_left.append(np.round(ci_left, 2))\n",
        "    cis_right.append(np.round(ci_right, 2))\n",
        "\n",
        "    g.fill_between(x,\n",
        "                   y,\n",
        "                   0,\n",
        "                   where = (x > ci_left) & (x < ci_right),\n",
        "                   alpha = 0.5,\n",
        "                   label = f'{variant} 95% CI')\n",
        "\n",
        "ax[0].legend(loc            = 'upper left',\n",
        "             frameon        = False,\n",
        "             fontsize       = 'small')\n",
        "\n",
        "feature_stats = data.groupby('experimentVariant').value.describe().T.round(2).reset_index()\n",
        "feature_stats.rename(columns = {'index' : 'stats'},\n",
        "                     inplace = True)\n",
        "\n",
        "feature_stats.loc[len(feature_stats.index)] = ['95% CI left'] + cis_left\n",
        "feature_stats.loc[len(feature_stats.index)] = ['95% CI right'] + cis_right\n",
        "\n",
        "feature_stats = feature_stats.iloc[[0, 1, 2, 3, 5, 7, 8, 9], :]\n",
        "\n",
        "the_table = ax[1].table(cellText  = feature_stats.values,\n",
        "                        colLabels = feature_stats.columns,\n",
        "                        bbox      = (0, 0, 1, 1),\n",
        "                        colWidths = [0.2, 0.4, 0.4],\n",
        "                        edges     = 'horizontal')\n",
        "\n",
        "the_table.auto_set_font_size(False)\n",
        "the_table.set_fontsize(14)\n",
        "\n",
        "for k, cell in six.iteritems(the_table._cells):\n",
        "    if k[1] == 0: cell.set_text_props(ha = 'left')\n",
        "    else: cell.set_text_props(ha = 'right')\n",
        "    if k[0] == 0 or k[1] == 0: cell.set_text_props(weight = 'bold')\n",
        "\n",
        "ax[1].axis('off')\n",
        "\n",
        "fig.suptitle('Value by Variant',\n",
        "             fontsize   = 16,\n",
        "             fontweight = 'bold')\n",
        "\n",
        "plt.tight_layout()\n",
        "plt.show()"
      ],
      "metadata": {
        "colab": {
          "base_uri": "https://localhost:8080/",
          "height": 456
        },
        "id": "g3n-qffHaAtA",
        "outputId": "9ca1c14e-335b-4b64-8031-5bbea08ad658"
      },
      "execution_count": 9,
      "outputs": [
        {
          "output_type": "display_data",
          "data": {
            "text/plain": [
              "<Figure size 1200x450 with 2 Axes>"
            ],
            "image/png": "[encoded data removed]"
          },
          "metadata": {}
        }
      ]
    },
    {
      "cell_type": "markdown",
      "source": [
        "Мы видим, что:\n",
        "- в обоих вариантах:\n",
        "    - распределение значений value похоже на нормальное;\n",
        "    - нет существенных выбросов;\n",
        "- в тестовом варианте:\n",
        "    - среднее и медиана и 95%-ый доверительный интервал больше (последнее объясняется более маленькой выборкой);\n",
        "- 95%-ые доверительные интервалы немного пересекаются, но не значительно;\n",
        "- распеределения значений value в обоих вариантах имеют схожую форму."
      ],
      "metadata": {
        "id": "pW3cXC4NfZ0_"
      }
    },
    {
      "cell_type": "markdown",
      "source": [
        "Также посмотрим, есть в каждом варианте часто повторяющиеся значения value:"
      ],
      "metadata": {
        "id": "PhZQKPoPsrLh"
      }
    },
    {
      "cell_type": "code",
      "source": [
        "# по каждому варианту вывод на экран количества уникальных значений value\n",
        "data.groupby('experimentVariant')['value'].nunique().to_frame()"
      ],
      "metadata": {
        "colab": {
          "base_uri": "https://localhost:8080/",
          "height": 143
        },
        "id": "jATO_leksl6i",
        "outputId": "fbed80bc-aedf-4e9e-b004-898fc6474251"
      },
      "execution_count": 10,
      "outputs": [
        {
          "output_type": "execute_result",
          "data": {
            "text/plain": [
              "                   value\n",
              "experimentVariant       \n",
              "Control              500\n",
              "Treatment             50"
            ],
            "text/html": [
              "\n",
              "  <div id=\"df-eb7e375b-6835-4595-baf5-360b97a6805d\">\n",
              "    <div class=\"colab-df-container\">\n",
              "      <div>\n",
              "<style scoped>\n",
              "    .dataframe tbody tr th:only-of-type {\n",
              "        vertical-align: middle;\n",
              "    }\n",
              "\n",
              "    .dataframe tbody tr th {\n",
              "        vertical-align: top;\n",
              "    }\n",
              "\n",
              "    .dataframe thead th {\n",
              "        text-align: right;\n",
              "    }\n",
              "</style>\n",
              "<table border=\"1\" class=\"dataframe\">\n",
              "  <thead>\n",
              "    <tr style=\"text-align: right;\">\n",
              "      <th></th>\n",
              "      <th>value</th>\n",
              "    </tr>\n",
              "    <tr>\n",
              "      <th>experimentVariant</th>\n",
              "      <th></th>\n",
              "    </tr>\n",
              "  </thead>\n",
              "  <tbody>\n",
              "    <tr>\n",
              "      <th>Control</th>\n",
              "      <td>500</td>\n",
              "    </tr>\n",
              "    <tr>\n",
              "      <th>Treatment</th>\n",
              "      <td>50</td>\n",
              "    </tr>\n",
              "  </tbody>\n",
              "</table>\n",
              "</div>\n",
              "      <button class=\"colab-df-convert\" onclick=\"convertToInteractive('df-eb7e375b-6835-4595-baf5-360b97a6805d')\"\n",
              "              title=\"Convert this dataframe to an interactive table.\"\n",
              "              style=\"display:none;\">\n",
              "        \n",
              "  <svg xmlns=\"http://www.w3.org/2000/svg\" height=\"24px\"viewBox=\"0 0 24 24\"\n",
              "       width=\"24px\">\n",
              "    <path d=\"M0 0h24v24H0V0z\" fill=\"none\"/>\n",
              "    <path d=\"M18.56 5.44l.94 2.06.94-2.06 2.06-.94-2.06-.94-.94-2.06-.94 2.06-2.06.94zm-11 1L8.5 8.5l.94-2.06 2.06-.94-2.06-.94L8.5 2.5l-.94 2.06-2.06.94zm10 10l.94 2.06.94-2.06 2.06-.94-2.06-.94-.94-2.06-.94 2.06-2.06.94z\"/><path d=\"M17.41 7.96l-1.37-1.37c-.4-.4-.92-.59-1.43-.59-.52 0-1.04.2-1.43.59L10.3 9.45l-7.72 7.72c-.78.78-.78 2.05 0 2.83L4 21.41c.39.39.9.59 1.41.59.51 0 1.02-.2 1.41-.59l7.78-7.78 2.81-2.81c.8-.78.8-2.07 0-2.86zM5.41 20L4 18.59l7.72-7.72 1.47 1.35L5.41 20z\"/>\n",
              "  </svg>\n",
              "      </button>\n",
              "      \n",
              "  <style>\n",
              "    .colab-df-container {\n",
              "      display:flex;\n",
              "      flex-wrap:wrap;\n",
              "      gap: 12px;\n",
              "    }\n",
              "\n",
              "    .colab-df-convert {\n",
              "      background-color: #E8F0FE;\n",
              "      border: none;\n",
              "      border-radius: 50%;\n",
              "      cursor: pointer;\n",
              "      display: none;\n",
              "      fill: #1967D2;\n",
              "      height: 32px;\n",
              "      padding: 0 0 0 0;\n",
              "      width: 32px;\n",
              "    }\n",
              "\n",
              "    .colab-df-convert:hover {\n",
              "      background-color: #E2EBFA;\n",
              "      box-shadow: 0px 1px 2px rgba(60, 64, 67, 0.3), 0px 1px 3px 1px rgba(60, 64, 67, 0.15);\n",
              "      fill: #174EA6;\n",
              "    }\n",
              "\n",
              "    [theme=dark] .colab-df-convert {\n",
              "      background-color: #3B4455;\n",
              "      fill: #D2E3FC;\n",
              "    }\n",
              "\n",
              "    [theme=dark] .colab-df-convert:hover {\n",
              "      background-color: #434B5C;\n",
              "      box-shadow: 0px 1px 3px 1px rgba(0, 0, 0, 0.15);\n",
              "      filter: drop-shadow(0px 1px 2px rgba(0, 0, 0, 0.3));\n",
              "      fill: #FFFFFF;\n",
              "    }\n",
              "  </style>\n",
              "\n",
              "      <script>\n",
              "        const buttonEl =\n",
              "          document.querySelector('#df-eb7e375b-6835-4595-baf5-360b97a6805d button.colab-df-convert');\n",
              "        buttonEl.style.display =\n",
              "          google.colab.kernel.accessAllowed ? 'block' : 'none';\n",
              "\n",
              "        async function convertToInteractive(key) {\n",
              "          const element = document.querySelector('#df-eb7e375b-6835-4595-baf5-360b97a6805d');\n",
              "          const dataTable =\n",
              "            await google.colab.kernel.invokeFunction('convertToInteractive',\n",
              "                                                     [key], {});\n",
              "          if (!dataTable) return;\n",
              "\n",
              "          const docLinkHtml = 'Like what you see? Visit the ' +\n",
              "            '<a target=\"_blank\" href=https://colab.research.google.com/notebooks/data_table.ipynb>data table notebook</a>'\n",
              "            + ' to learn more about interactive tables.';\n",
              "          element.innerHTML = '';\n",
              "          dataTable['output_type'] = 'display_data';\n",
              "          await google.colab.output.renderOutput(dataTable, element);\n",
              "          const docLink = document.createElement('div');\n",
              "          docLink.innerHTML = docLinkHtml;\n",
              "          element.appendChild(docLink);\n",
              "        }\n",
              "      </script>\n",
              "    </div>\n",
              "  </div>\n",
              "  "
            ]
          },
          "metadata": {},
          "execution_count": 10
        }
      ]
    },
    {
      "cell_type": "markdown",
      "source": [
        "В каждом варианте количество уникальных значений value равно количеству объектов, следовательно, часто повторяющихся значений нет."
      ],
      "metadata": {
        "id": "BOXmOIU0s19X"
      }
    },
    {
      "cell_type": "markdown",
      "source": [
        "## Статистическая проверка гипотез"
      ],
      "metadata": {
        "id": "_j1LByclYFOU"
      }
    },
    {
      "cell_type": "markdown",
      "source": [
        "При проведении статистической проверки гипотез будем использовать α = 0.05:"
      ],
      "metadata": {
        "id": "eI9YX2_oy-wS"
      }
    },
    {
      "cell_type": "code",
      "source": [
        "# сохранение константных значений в отдельные переменные\n",
        "ALPHA = 0.05"
      ],
      "metadata": {
        "id": "pxHnFxb9y9ZX"
      },
      "execution_count": 11,
      "outputs": []
    },
    {
      "cell_type": "code",
      "source": [
        "# сохранение значений value по каждому варианту в отдельные переменные\n",
        "control_data   = data[data.experimentVariant == 'Control'].value\n",
        "treatment_data = data[data.experimentVariant == 'Treatment'].value"
      ],
      "metadata": {
        "id": "nNmcysOHw0Ju"
      },
      "execution_count": 12,
      "outputs": []
    },
    {
      "cell_type": "code",
      "source": [
        "# создание таблицы tests_results для сохранения результатов тестов\n",
        "tests_results = pd.DataFrame(\n",
        "    index   = ['boot_mean',\n",
        "               'ttest',\n",
        "               'boot_median',\n",
        "               'mannwhitneyu'],\n",
        "    columns = ['p_value']\n",
        "    )"
      ],
      "metadata": {
        "id": "cwRJklJ0nDvB"
      },
      "execution_count": 13,
      "outputs": []
    },
    {
      "cell_type": "markdown",
      "source": [
        "### Бутстрап"
      ],
      "metadata": {
        "id": "lv09IkdgYLM2"
      }
    },
    {
      "cell_type": "markdown",
      "source": [
        "Используем бутстрап для двух целей:\n",
        "- убедимся, что средние двух вариантов нормально распределены;\n",
        "- рассчитаем p-values для средних и медиан.\n",
        "\n",
        "Для каждой из статистик сформулируем нулевую и альтернативную гипотезы:\n",
        "\n",
        "- **нулевая гипотеза**: статистики значений value в контрольном и тестовом вариантах равны;\n",
        "- **альтернативная гипотеза**: статистики значений value в контрольном и тестовом вариантах различаются."
      ],
      "metadata": {
        "id": "F8snz76xpDQm"
      }
    },
    {
      "cell_type": "code",
      "source": [
        "# создание функции get_bootstrap\n",
        "def get_bootstrap(\n",
        "    data_0: list, # числовые значения первой выборки\n",
        "    data_1: list, # числовые значения второй выборки\n",
        "    boot_it: int = 1000, # количество бутстрэп-подвыборок\n",
        "    statistic = np.mean, # интересующая нас статистика\n",
        "    conf_level: float = 1 - ALPHA, # уровень значимости\n",
        "):\n",
        "    boot_data = []\n",
        "\n",
        "    for _ in tqdm(range(boot_it)):\n",
        "        boot_0 = data_0.sample(len(data_0), replace = True).values\n",
        "        boot_1 = data_1.sample(len(data_1), replace = True).values\n",
        "        boot_data.append(statistic(boot_0) - statistic(boot_1))\n",
        "\n",
        "    orig_theta = statistic(data_0)-statistic(data_1) # разница в исходных данных\n",
        "    boot_theta = np.mean(boot_data) # среднее по бутстрапированной разнице статистик\n",
        "    delta_val  = boot_theta - orig_theta # дельта для сдвига\n",
        "    boot_data  = [i - delta_val for i in boot_data]\n",
        "\n",
        "    left_quant = (1 - conf_level)/2\n",
        "    right_quant = 1 - (1 - conf_level) / 2\n",
        "    ci = pd.DataFrame(boot_data).quantile([left_quant, right_quant])\n",
        "\n",
        "    p_1 = norm.cdf(x = 0, loc = np.mean(boot_data), scale = np.std(boot_data))\n",
        "    p_2 = norm.cdf(x = 0, loc = -np.mean(boot_data), scale = np.std(boot_data))\n",
        "    p_value = min(p_1, p_2) * 2\n",
        "\n",
        "    return boot_data, p_value"
      ],
      "metadata": {
        "id": "u0q1qUBhwrQs"
      },
      "execution_count": 14,
      "outputs": []
    },
    {
      "cell_type": "code",
      "source": [
        "# применение функции get_bootstrap для средних и медиан и сохранение результатов\n",
        "# тестов\n",
        "boot_data_mean, pval  = get_bootstrap(control_data, treatment_data)\n",
        "tests_results.loc['boot_mean', 'p_value'] = pval\n",
        "\n",
        "boot_data_median, pval  = get_bootstrap(control_data, treatment_data, statistic = np.median)\n",
        "tests_results.loc['boot_median', 'p_value'] = pval"
      ],
      "metadata": {
        "colab": {
          "base_uri": "https://localhost:8080/",
          "height": 81,
          "referenced_widgets": [
            "f3015570676e4e6eb2ca89d60b37acf8",
            "a8e49e12b8b849a4a7dc98de511d90c4",
            "ffd5cb23925b42adb209a54e27aa364a",
            "79295d7026e6488b880c304592f48ed0",
            "d04f62cf6ef54837acc9f3a9787db234",
            "03d4e3b386f748388f5a2062c244b335",
            "5ab804648577410b92a45482b8e43e1d",
            "75dffb3c56e545c3b799ab462df0f2bd",
            "d4bb0bc1d20843d5a96b6fd191507cd5",
            "ab7d3157462d4c6c891e5d0e47b15451",
            "d9f83495cba140beaa202945929832f4",
            "a28fee44b56b441cb231a53bd84c35d8",
            "a130713ad40c4df0b6d5a0cf17cf6a43",
            "1e40f4b458174331aee053442deeb544",
            "e5a8b7bb72b4473e8c3776745d2aea55",
            "c46d728d1b9241ecb858604cb48db9c7",
            "1979f1a7e2b24f419ea0c5db96d7921e",
            "b8f748c78d8447baac18a1b1a7cfd645",
            "5a8936e84e554932ba98b563fee6028a",
            "ff3b6a32cc384f1397b5e96c6dbcb803",
            "f1850ae7d12b4effa14d3e388089da42",
            "57f81046342c42c9b2f29da4d3fe2a26"
          ]
        },
        "id": "hFUuXDoYws3v",
        "outputId": "14108674-7218-4b81-895a-1c4fe8057532"
      },
      "execution_count": 15,
      "outputs": [
        {
          "output_type": "display_data",
          "data": {
            "text/plain": [
              "  0%|          | 0/1000 [00:00<?, ?it/s]"
            ],
            "application/vnd.jupyter.widget-view+json": {
              "version_major": 2,
              "version_minor": 0,
              "model_id": "f3015570676e4e6eb2ca89d60b37acf8"
            }
          },
          "metadata": {}
        },
        {
          "output_type": "display_data",
          "data": {
            "text/plain": [
              "  0%|          | 0/1000 [00:00<?, ?it/s]"
            ],
            "application/vnd.jupyter.widget-view+json": {
              "version_major": 2,
              "version_minor": 0,
              "model_id": "a28fee44b56b441cb231a53bd84c35d8"
            }
          },
          "metadata": {}
        }
      ]
    },
    {
      "cell_type": "markdown",
      "source": [
        "### t-тест"
      ],
      "metadata": {
        "id": "1AIK-9DwouGc"
      }
    },
    {
      "cell_type": "markdown",
      "source": [
        "Чтобы использовать t-тест для сравнения средних необходимо, чтобы:\n",
        "- в выборках не было выбросов, которые могут исказить результаты теста; и\n",
        "- средние (и следовательно их разница) были нормально распределены.\n",
        "\n",
        "В ходе EDA мы убедились, что выборки не содержат существенных выбросов.\n",
        "\n",
        "Проанализируем распределение распределение разницы средних, полученное с использованием бутстрапа:"
      ],
      "metadata": {
        "id": "qIc6KAYNoz3w"
      }
    },
    {
      "cell_type": "code",
      "source": [
        "# вывод на экран графика распределения разницы средних,\n",
        "# полученное в результате использованият бутстрапа\n",
        "\n",
        "fig = plt.figure()\n",
        "sns.kdeplot(boot_data_mean)\n",
        "\n",
        "plt.suptitle('Bootstrap Mean Delta Distribution', fontsize = 16, fontweight = 'bold')\n",
        "\n",
        "plt.tight_layout()\n",
        "plt.show()"
      ],
      "metadata": {
        "colab": {
          "base_uri": "https://localhost:8080/",
          "height": 486
        },
        "id": "foRL7i0p2gAT",
        "outputId": "8b0bd2d9-f617-4997-e427-d2f781b807b0"
      },
      "execution_count": 16,
      "outputs": [
        {
          "output_type": "display_data",
          "data": {
            "text/plain": [
              "<Figure size 640x480 with 1 Axes>"
            ],
            "image/png": "[encoded data removed]"
          },
          "metadata": {}
        }
      ]
    },
    {
      "cell_type": "markdown",
      "source": [
        "Разница средних похожа на нормальное распределение, можем проводить t-тест.\n",
        "\n",
        "Сформулируем нулевую и альтернативную гипотезы:\n",
        "\n",
        "- **нулевая гипотеза**: средние значения value в контрольном и тестовом вариантах равны;\n",
        "- **альтернативная гипотеза**: средние значения value в контрольном и тестовом вариантах различаются."
      ],
      "metadata": {
        "id": "9DdLaONbi64B"
      }
    },
    {
      "cell_type": "code",
      "source": [
        "# проведение t-теста\n",
        "stat, pval = ttest_ind(control_data, treatment_data, equal_var = False)\n",
        "\n",
        "# сохранение результатов в таблицу tests_results\n",
        "tests_results.loc['ttest', 'p_value'] = pval"
      ],
      "metadata": {
        "id": "fOSQiZHijAL1"
      },
      "execution_count": 17,
      "outputs": []
    },
    {
      "cell_type": "markdown",
      "source": [
        "### u-тест"
      ],
      "metadata": {
        "id": "NnMTgBbaoxBs"
      }
    },
    {
      "cell_type": "markdown",
      "source": [
        "Чтобы использовать u-тест, необходимо, чтобы:\n",
        "- не было много повторяющихся значений;\n",
        "- распределения имели схожую форму.\n",
        "\n",
        "Мы убедились, что оба условия выполнены, в ходе EDA, а значит можем перейти к проведению u-теста.\n",
        "\n",
        "Сформулируем нулевую и альтернативную гипотезы:\n",
        "\n",
        "- **нулевая гипотеза**: распределения значений value в контрольном и тестовом вариантах не содержат значимых различий;\n",
        "- **альтернативная гипотеза**: распределения значений value в контрольном и тестовом вариантах значимо различаются."
      ],
      "metadata": {
        "id": "7xp4RChotHry"
      }
    },
    {
      "cell_type": "code",
      "source": [
        "# проведение u-теста\n",
        "stat, pval = mannwhitneyu(control_data, treatment_data)\n",
        "\n",
        "# сохранение результатов в таблицу tests_results\n",
        "tests_results.loc['mannwhitneyu', 'p_value'] = pval"
      ],
      "metadata": {
        "id": "EvJY-xZxZ9fH"
      },
      "execution_count": 18,
      "outputs": []
    },
    {
      "cell_type": "markdown",
      "source": [
        "Проанализируем результаты тестов:"
      ],
      "metadata": {
        "id": "1q-olVLCozyI"
      }
    },
    {
      "cell_type": "code",
      "source": [
        "# вывод на экран результатов тестов\n",
        "tests_results"
      ],
      "metadata": {
        "colab": {
          "base_uri": "https://localhost:8080/",
          "height": 175
        },
        "id": "1Uv83nRSnARl",
        "outputId": "138f3de8-5916-4564-a56c-4fd6b2de308f"
      },
      "execution_count": 19,
      "outputs": [
        {
          "output_type": "execute_result",
          "data": {
            "text/plain": [
              "               p_value\n",
              "boot_mean     0.023655\n",
              "ttest         0.029209\n",
              "boot_median   0.000827\n",
              "mannwhitneyu  0.005236"
            ],
            "text/html": [
              "\n",
              "  <div id=\"df-ee7c39f4-0ea6-4b7e-badf-837773d36add\">\n",
              "    <div class=\"colab-df-container\">\n",
              "      <div>\n",
              "<style scoped>\n",
              "    .dataframe tbody tr th:only-of-type {\n",
              "        vertical-align: middle;\n",
              "    }\n",
              "\n",
              "    .dataframe tbody tr th {\n",
              "        vertical-align: top;\n",
              "    }\n",
              "\n",
              "    .dataframe thead th {\n",
              "        text-align: right;\n",
              "    }\n",
              "</style>\n",
              "<table border=\"1\" class=\"dataframe\">\n",
              "  <thead>\n",
              "    <tr style=\"text-align: right;\">\n",
              "      <th></th>\n",
              "      <th>p_value</th>\n",
              "    </tr>\n",
              "  </thead>\n",
              "  <tbody>\n",
              "    <tr>\n",
              "      <th>boot_mean</th>\n",
              "      <td>0.023655</td>\n",
              "    </tr>\n",
              "    <tr>\n",
              "      <th>ttest</th>\n",
              "      <td>0.029209</td>\n",
              "    </tr>\n",
              "    <tr>\n",
              "      <th>boot_median</th>\n",
              "      <td>0.000827</td>\n",
              "    </tr>\n",
              "    <tr>\n",
              "      <th>mannwhitneyu</th>\n",
              "      <td>0.005236</td>\n",
              "    </tr>\n",
              "  </tbody>\n",
              "</table>\n",
              "</div>\n",
              "      <button class=\"colab-df-convert\" onclick=\"convertToInteractive('df-ee7c39f4-0ea6-4b7e-badf-837773d36add')\"\n",
              "              title=\"Convert this dataframe to an interactive table.\"\n",
              "              style=\"display:none;\">\n",
              "        \n",
              "  <svg xmlns=\"http://www.w3.org/2000/svg\" height=\"24px\"viewBox=\"0 0 24 24\"\n",
              "       width=\"24px\">\n",
              "    <path d=\"M0 0h24v24H0V0z\" fill=\"none\"/>\n",
              "    <path d=\"M18.56 5.44l.94 2.06.94-2.06 2.06-.94-2.06-.94-.94-2.06-.94 2.06-2.06.94zm-11 1L8.5 8.5l.94-2.06 2.06-.94-2.06-.94L8.5 2.5l-.94 2.06-2.06.94zm10 10l.94 2.06.94-2.06 2.06-.94-2.06-.94-.94-2.06-.94 2.06-2.06.94z\"/><path d=\"M17.41 7.96l-1.37-1.37c-.4-.4-.92-.59-1.43-.59-.52 0-1.04.2-1.43.59L10.3 9.45l-7.72 7.72c-.78.78-.78 2.05 0 2.83L4 21.41c.39.39.9.59 1.41.59.51 0 1.02-.2 1.41-.59l7.78-7.78 2.81-2.81c.8-.78.8-2.07 0-2.86zM5.41 20L4 18.59l7.72-7.72 1.47 1.35L5.41 20z\"/>\n",
              "  </svg>\n",
              "      </button>\n",
              "      \n",
              "  <style>\n",
              "    .colab-df-container {\n",
              "      display:flex;\n",
              "      flex-wrap:wrap;\n",
              "      gap: 12px;\n",
              "    }\n",
              "\n",
              "    .colab-df-convert {\n",
              "      background-color: #E8F0FE;\n",
              "      border: none;\n",
              "      border-radius: 50%;\n",
              "      cursor: pointer;\n",
              "      display: none;\n",
              "      fill: #1967D2;\n",
              "      height: 32px;\n",
              "      padding: 0 0 0 0;\n",
              "      width: 32px;\n",
              "    }\n",
              "\n",
              "    .colab-df-convert:hover {\n",
              "      background-color: #E2EBFA;\n",
              "      box-shadow: 0px 1px 2px rgba(60, 64, 67, 0.3), 0px 1px 3px 1px rgba(60, 64, 67, 0.15);\n",
              "      fill: #174EA6;\n",
              "    }\n",
              "\n",
              "    [theme=dark] .colab-df-convert {\n",
              "      background-color: #3B4455;\n",
              "      fill: #D2E3FC;\n",
              "    }\n",
              "\n",
              "    [theme=dark] .colab-df-convert:hover {\n",
              "      background-color: #434B5C;\n",
              "      box-shadow: 0px 1px 3px 1px rgba(0, 0, 0, 0.15);\n",
              "      filter: drop-shadow(0px 1px 2px rgba(0, 0, 0, 0.3));\n",
              "      fill: #FFFFFF;\n",
              "    }\n",
              "  </style>\n",
              "\n",
              "      <script>\n",
              "        const buttonEl =\n",
              "          document.querySelector('#df-ee7c39f4-0ea6-4b7e-badf-837773d36add button.colab-df-convert');\n",
              "        buttonEl.style.display =\n",
              "          google.colab.kernel.accessAllowed ? 'block' : 'none';\n",
              "\n",
              "        async function convertToInteractive(key) {\n",
              "          const element = document.querySelector('#df-ee7c39f4-0ea6-4b7e-badf-837773d36add');\n",
              "          const dataTable =\n",
              "            await google.colab.kernel.invokeFunction('convertToInteractive',\n",
              "                                                     [key], {});\n",
              "          if (!dataTable) return;\n",
              "\n",
              "          const docLinkHtml = 'Like what you see? Visit the ' +\n",
              "            '<a target=\"_blank\" href=https://colab.research.google.com/notebooks/data_table.ipynb>data table notebook</a>'\n",
              "            + ' to learn more about interactive tables.';\n",
              "          element.innerHTML = '';\n",
              "          dataTable['output_type'] = 'display_data';\n",
              "          await google.colab.output.renderOutput(dataTable, element);\n",
              "          const docLink = document.createElement('div');\n",
              "          docLink.innerHTML = docLinkHtml;\n",
              "          element.appendChild(docLink);\n",
              "        }\n",
              "      </script>\n",
              "    </div>\n",
              "  </div>\n",
              "  "
            ]
          },
          "metadata": {},
          "execution_count": 19
        }
      ]
    },
    {
      "cell_type": "markdown",
      "source": [
        "- **t-тест vs. бутстрап средних**:\n",
        "\n",
        "    - p-values, полученные при помощи обоих тестов, примерно равны (разница начинается на 3 знаке после запятой)\n",
        "    - на уровне значимости 95% мы можем отвергуть нулевую гипотезу о равенстве средних независимо от теста;\n",
        "\n",
        "- **u-тест vs. бутстрап медиан**:\n",
        "\n",
        "    - p-values, полученные при помощи обоих тестов, различаются в 10 раз, что может объясняться тем обстоятельством, что использованные тесты тестируют разные гипотезы (отвечают на разные вопросы);\n",
        "    - на уровне значимости 95% мы может отвергнуть нулевые гипотезы обоих тестов."
      ],
      "metadata": {
        "id": "pm95m1IAkQdT"
      }
    },
    {
      "cell_type": "markdown",
      "source": [
        "## Общие выводы"
      ],
      "metadata": {
        "id": "dF9NIpn-T0u2"
      }
    },
    {
      "cell_type": "markdown",
      "source": [
        "В ходе работы над кейсом мы проанализировали данные, полученные в результате проведения A/B-теста, провели статистическую проверку гипотез с использованием бутстрапа и t- и u-тестов и сравнили полученные результаты.\n",
        "\n",
        "**EDA**\n",
        "\n",
        "- соотношение объектов в контрольном и тестовом вариантах 9 к 1\n",
        "доверительный интервал значений value\n",
        "- в обоих вариантах:\n",
        "    - распределение значений value похоже на нормальное;\n",
        "    - нет существенных выбросов;\n",
        "- в тестовом варианте:\n",
        "    - среднее и медиана и 95%-ый доверительный интервал больше (последнее объясняется более маленькой выборкой);\n",
        "- 95%-ые доверительные интервалы немного пересекаются, но не значительно;\n",
        "- распеределения значений value в обоих вариантах имеют схожую форму.\n",
        "\n",
        "**Статистическая проверка гипотез**\n",
        "\n",
        "*Бутстрап*\n",
        "\n",
        "Мы использовали бутстрап для двух целей:\n",
        "- убедиться, что средние двух вариантов нормально распределены;\n",
        "- рассчитать p-values для средних и медиан.\n",
        "\n",
        "Для каждой из статистик (среднее и медиана) мы сформулировали нулевую и альтернативную гипотезы:\n",
        "\n",
        "- **нулевая гипотеза**: статистики значений value в контрольном и тестовом вариантах равны;\n",
        "- **альтернативная гипотеза**: статистики значений value в контрольном и тестовом вариантах различаются.\n",
        "\n",
        "*t-тест*\n",
        "\n",
        "Мы убедились, что:\n",
        "\n",
        "- разница средних похожа на нормальное распределение;\n",
        "- выборки не содержат существенных выбросов.\n",
        "\n",
        "Мы сформулировали нулевую и альтернативную гипотезы:\n",
        "\n",
        "- **нулевая гипотеза**: средние значения value в контрольном и тестовом вариантах равны;\n",
        "- **альтернативная гипотеза**: средние значения value в контрольном и тестовом вариантах различаются.\n",
        "\n",
        "*u-тест*\n",
        "\n",
        "Мы убедились, что:\n",
        "\n",
        "- данные не содержат много повторяющихся значений;\n",
        "- распределения имели схожую форму.\n",
        "\n",
        "Мы сформулировали нулевую и альтернативную гипотезы:\n",
        "\n",
        "- **нулевая гипотеза**: распределения значений value в контрольном и тестовом вариантах не содержат значимых различий;\n",
        "- **альтернативная гипотеза**: распределения значений value в контрольном и тестовом вариантах значимо различаются.\n",
        "\n",
        "*Сравнение результатов*\n",
        "\n",
        "- **t-тест vs. бутстрап средних**:\n",
        "\n",
        "    - p-values, полученные при помощи обоих тестов, примерно равны (разница начинается на 3 знаке после запятой)\n",
        "    - на уровне значимости 95% мы можем отвергуть нулевую гипотезу о равенстве средних независимо от теста (в тестовом варианте наблюдается большее среднее);\n",
        "\n",
        "- **u-тест vs. бутстрап медиан**:\n",
        "\n",
        "    - p-values, полученные при помощи обоих тестов, различаются в 10 раз, что может объясняться тем обстоятельством, что использованные тесты тестируют разные гипотезы (отвечают на разные вопросы);\n",
        "    - на уровне значимости 95% мы может отвергнуть нулевые гипотезы обоих тестов (в тестовом варианте наблюдается большая медиана, распределения значений value в контрольном и тестовом вариантах значимо различаются)."
      ],
      "metadata": {
        "id": "u725qU4cUDlX"
      }
    },
    {
      "cell_type": "code",
      "source": [],
      "metadata": {
        "id": "r5Nf2gEYUux5"
      },
      "execution_count": null,
      "outputs": []
    }
  ]
}