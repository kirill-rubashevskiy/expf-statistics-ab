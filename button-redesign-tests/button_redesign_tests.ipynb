{
  "nbformat": 4,
  "nbformat_minor": 0,
  "metadata": {
    "colab": {
      "provenance": [],
      "authorship_tag": "ABX9TyPDb5VWSxtIR8zSTSD1Jti/",
      "include_colab_link": true
    },
    "kernelspec": {
      "name": "python3",
      "display_name": "Python 3"
    },
    "language_info": {
      "name": "python"
    }
  },
  "cells": [
    {
      "cell_type": "markdown",
      "metadata": {
        "id": "view-in-github",
        "colab_type": "text"
      },
      "source": [
        "<a href=\"https://colab.research.google.com/github/kirill-rubashevskiy/expf-statistics-ab/blob/main/button-redesign-tests/button_redesign_tests.ipynb\" target=\"_parent\"><img src=\"https://colab.research.google.com/assets/colab-badge.svg\" alt=\"Open In Colab\"/></a>"
      ]
    },
    {
      "cell_type": "markdown",
      "source": [
        "# Проверка гипотез в связи с редизайном кнопки на главной странице сервиса подписки аналитику в соц. сетях"
      ],
      "metadata": {
        "id": "HkSJrGUvG21w"
      }
    },
    {
      "cell_type": "markdown",
      "source": [
        "## Описание кейса"
      ],
      "metadata": {
        "id": "kWQj44NbhWht"
      }
    },
    {
      "cell_type": "markdown",
      "source": [
        "- **Продукт**: SaaS, подписка, аналитика в соц. сетях. Пользователь может отслеживать свою активность и активность своих друзей, подписавшись в сервисе\n",
        "- **Тестируемое изменение**: изменение h1 и подписи в кнопке на первом экране главной страницы. Цель – зацепить пользователя\n",
        "- **Выборка**: в эксперименте участвовали все пользователи, посетившие главную страницу сервиса"
      ],
      "metadata": {
        "id": "duG3LT6CGdi_"
      }
    },
    {
      "cell_type": "markdown",
      "source": [
        "## Описание данных"
      ],
      "metadata": {
        "id": "OqFL8IyDho23"
      }
    },
    {
      "cell_type": "markdown",
      "source": [
        "В датасете есть поля:\n",
        "\n",
        "- `date` – дата;\n",
        "- `deviceCategory` – тип устройства;\n",
        "- `sourceMedium` – источник и канал привлечения;\n",
        "- `experimentVariant` – группа (варианта) эксперимента, в которую был определен пользователь (контроль – `Check`, тест – `Find out in 30 seconds`);\n",
        "- `clickButtonOnMain` – кликнул/не кликнул по кнопке на главной странице в рамках сеанса (1 – кликнул, или 0 – не кликнул);\n",
        "- `sessionDuration` – Время проведенное на сайте в рамках сеанса.\n",
        "\n",
        "В датасете есть информация о пользователях, которые приняли участие в эксперименте, но не кликнули на целевую кнопку."
      ],
      "metadata": {
        "id": "3nuqUj6UhstO"
      }
    },
    {
      "cell_type": "markdown",
      "source": [
        "## Задача"
      ],
      "metadata": {
        "id": "-hIhwIBXh2FP"
      }
    },
    {
      "cell_type": "markdown",
      "source": [
        "Проверить гипотезы:\n",
        "\n",
        "- есть ли значимое изменение в большую или меньшую сторону у клика на целевую кнопку;\n",
        "- изменилось ли время проведенное на сайте в рамках сеанса."
      ],
      "metadata": {
        "id": "2e1pYvceh0Ji"
      }
    },
    {
      "cell_type": "markdown",
      "source": [
        "## Подготовка к работе"
      ],
      "metadata": {
        "id": "AocqqTAriUc8"
      }
    },
    {
      "cell_type": "code",
      "execution_count": 1,
      "metadata": {
        "id": "mpdSX0YtGMtj"
      },
      "outputs": [],
      "source": [
        "# импорт библиотек\n",
        "\n",
        "# общие, работа с данными\n",
        "import os\n",
        "import six\n",
        "import numpy as np\n",
        "import pandas as pd\n",
        "\n",
        "# исследовательский анализ данных\n",
        "import seaborn as sns\n",
        "import matplotlib.pyplot as plt\n",
        "\n",
        "# статистическая проверка гипотез\n",
        "from scipy import stats\n",
        "from statsmodels.stats.proportion import proportions_ztest"
      ]
    },
    {
      "cell_type": "code",
      "source": [
        "# настройка отображения графиков\n",
        "plt.style.use('fivethirtyeight')"
      ],
      "metadata": {
        "id": "4VcjglJeHM_n"
      },
      "execution_count": 2,
      "outputs": []
    },
    {
      "cell_type": "markdown",
      "source": [
        "## Загрузка данных"
      ],
      "metadata": {
        "id": "ldF2FTT9H1UZ"
      }
    },
    {
      "cell_type": "code",
      "source": [
        "# подключение google drive\n",
        "from google.colab import drive\n",
        "drive.mount('/content/drive')"
      ],
      "metadata": {
        "colab": {
          "base_uri": "https://localhost:8080/"
        },
        "id": "a1UDdQnGHPEb",
        "outputId": "82ca607c-613a-402c-e3e6-76e6131dcaac"
      },
      "execution_count": 3,
      "outputs": [
        {
          "output_type": "stream",
          "name": "stdout",
          "text": [
            "Mounted at /content/drive\n"
          ]
        }
      ]
    },
    {
      "cell_type": "code",
      "source": [
        "# указание пути к данным\n",
        "PATH = '/content/drive/MyDrive/expf/button-redesign-tests'"
      ],
      "metadata": {
        "id": "ZvWjYXDjHQ_8"
      },
      "execution_count": 4,
      "outputs": []
    },
    {
      "cell_type": "code",
      "source": [
        "# чтение данных\n",
        "data = pd.read_csv(filepath_or_buffer = os.path.join(PATH, 'hw2_1.csv'),\n",
        "                   sep                = ';',\n",
        "                   index_col          = 0,\n",
        "                   decimal            = ',')"
      ],
      "metadata": {
        "id": "SjbxyBnhHViO"
      },
      "execution_count": 5,
      "outputs": []
    },
    {
      "cell_type": "code",
      "source": [
        "# вывод на экран первых пяти строк датасета\n",
        "data.head()"
      ],
      "metadata": {
        "colab": {
          "base_uri": "https://localhost:8080/",
          "height": 206
        },
        "id": "32xID5a2HbBK",
        "outputId": "9bfecf5a-7e18-474e-bb12-dc24fd8e5a04"
      },
      "execution_count": 6,
      "outputs": [
        {
          "output_type": "execute_result",
          "data": {
            "text/plain": [
              "         date deviceCategory        sourceMedium experimentVariant  \\\n",
              "1  2019-11-27        desktop   (direct) / (none)           control   \n",
              "2  2019-11-27         mobile  maz.com / referral              test   \n",
              "3  2019-11-27         mobile   (direct) / (none)              test   \n",
              "4  2019-11-27        desktop    google / organic              test   \n",
              "5  2019-11-27         mobile    google / organic           control   \n",
              "\n",
              "   clickButtonOnMain  sessionDuration  \n",
              "1                  1       123.109765  \n",
              "2                  1       135.604001  \n",
              "3                  1       134.451017  \n",
              "4                  1       130.691087  \n",
              "5                  1       117.617311  "
            ],
            "text/html": [
              "\n",
              "  <div id=\"df-330fe000-ec1a-4e3d-a80a-94107475b618\">\n",
              "    <div class=\"colab-df-container\">\n",
              "      <div>\n",
              "<style scoped>\n",
              "    .dataframe tbody tr th:only-of-type {\n",
              "        vertical-align: middle;\n",
              "    }\n",
              "\n",
              "    .dataframe tbody tr th {\n",
              "        vertical-align: top;\n",
              "    }\n",
              "\n",
              "    .dataframe thead th {\n",
              "        text-align: right;\n",
              "    }\n",
              "</style>\n",
              "<table border=\"1\" class=\"dataframe\">\n",
              "  <thead>\n",
              "    <tr style=\"text-align: right;\">\n",
              "      <th></th>\n",
              "      <th>date</th>\n",
              "      <th>deviceCategory</th>\n",
              "      <th>sourceMedium</th>\n",
              "      <th>experimentVariant</th>\n",
              "      <th>clickButtonOnMain</th>\n",
              "      <th>sessionDuration</th>\n",
              "    </tr>\n",
              "  </thead>\n",
              "  <tbody>\n",
              "    <tr>\n",
              "      <th>1</th>\n",
              "      <td>2019-11-27</td>\n",
              "      <td>desktop</td>\n",
              "      <td>(direct) / (none)</td>\n",
              "      <td>control</td>\n",
              "      <td>1</td>\n",
              "      <td>123.109765</td>\n",
              "    </tr>\n",
              "    <tr>\n",
              "      <th>2</th>\n",
              "      <td>2019-11-27</td>\n",
              "      <td>mobile</td>\n",
              "      <td>maz.com / referral</td>\n",
              "      <td>test</td>\n",
              "      <td>1</td>\n",
              "      <td>135.604001</td>\n",
              "    </tr>\n",
              "    <tr>\n",
              "      <th>3</th>\n",
              "      <td>2019-11-27</td>\n",
              "      <td>mobile</td>\n",
              "      <td>(direct) / (none)</td>\n",
              "      <td>test</td>\n",
              "      <td>1</td>\n",
              "      <td>134.451017</td>\n",
              "    </tr>\n",
              "    <tr>\n",
              "      <th>4</th>\n",
              "      <td>2019-11-27</td>\n",
              "      <td>desktop</td>\n",
              "      <td>google / organic</td>\n",
              "      <td>test</td>\n",
              "      <td>1</td>\n",
              "      <td>130.691087</td>\n",
              "    </tr>\n",
              "    <tr>\n",
              "      <th>5</th>\n",
              "      <td>2019-11-27</td>\n",
              "      <td>mobile</td>\n",
              "      <td>google / organic</td>\n",
              "      <td>control</td>\n",
              "      <td>1</td>\n",
              "      <td>117.617311</td>\n",
              "    </tr>\n",
              "  </tbody>\n",
              "</table>\n",
              "</div>\n",
              "      <button class=\"colab-df-convert\" onclick=\"convertToInteractive('df-330fe000-ec1a-4e3d-a80a-94107475b618')\"\n",
              "              title=\"Convert this dataframe to an interactive table.\"\n",
              "              style=\"display:none;\">\n",
              "        \n",
              "  <svg xmlns=\"http://www.w3.org/2000/svg\" height=\"24px\"viewBox=\"0 0 24 24\"\n",
              "       width=\"24px\">\n",
              "    <path d=\"M0 0h24v24H0V0z\" fill=\"none\"/>\n",
              "    <path d=\"M18.56 5.44l.94 2.06.94-2.06 2.06-.94-2.06-.94-.94-2.06-.94 2.06-2.06.94zm-11 1L8.5 8.5l.94-2.06 2.06-.94-2.06-.94L8.5 2.5l-.94 2.06-2.06.94zm10 10l.94 2.06.94-2.06 2.06-.94-2.06-.94-.94-2.06-.94 2.06-2.06.94z\"/><path d=\"M17.41 7.96l-1.37-1.37c-.4-.4-.92-.59-1.43-.59-.52 0-1.04.2-1.43.59L10.3 9.45l-7.72 7.72c-.78.78-.78 2.05 0 2.83L4 21.41c.39.39.9.59 1.41.59.51 0 1.02-.2 1.41-.59l7.78-7.78 2.81-2.81c.8-.78.8-2.07 0-2.86zM5.41 20L4 18.59l7.72-7.72 1.47 1.35L5.41 20z\"/>\n",
              "  </svg>\n",
              "      </button>\n",
              "      \n",
              "  <style>\n",
              "    .colab-df-container {\n",
              "      display:flex;\n",
              "      flex-wrap:wrap;\n",
              "      gap: 12px;\n",
              "    }\n",
              "\n",
              "    .colab-df-convert {\n",
              "      background-color: #E8F0FE;\n",
              "      border: none;\n",
              "      border-radius: 50%;\n",
              "      cursor: pointer;\n",
              "      display: none;\n",
              "      fill: #1967D2;\n",
              "      height: 32px;\n",
              "      padding: 0 0 0 0;\n",
              "      width: 32px;\n",
              "    }\n",
              "\n",
              "    .colab-df-convert:hover {\n",
              "      background-color: #E2EBFA;\n",
              "      box-shadow: 0px 1px 2px rgba(60, 64, 67, 0.3), 0px 1px 3px 1px rgba(60, 64, 67, 0.15);\n",
              "      fill: #174EA6;\n",
              "    }\n",
              "\n",
              "    [theme=dark] .colab-df-convert {\n",
              "      background-color: #3B4455;\n",
              "      fill: #D2E3FC;\n",
              "    }\n",
              "\n",
              "    [theme=dark] .colab-df-convert:hover {\n",
              "      background-color: #434B5C;\n",
              "      box-shadow: 0px 1px 3px 1px rgba(0, 0, 0, 0.15);\n",
              "      filter: drop-shadow(0px 1px 2px rgba(0, 0, 0, 0.3));\n",
              "      fill: #FFFFFF;\n",
              "    }\n",
              "  </style>\n",
              "\n",
              "      <script>\n",
              "        const buttonEl =\n",
              "          document.querySelector('#df-330fe000-ec1a-4e3d-a80a-94107475b618 button.colab-df-convert');\n",
              "        buttonEl.style.display =\n",
              "          google.colab.kernel.accessAllowed ? 'block' : 'none';\n",
              "\n",
              "        async function convertToInteractive(key) {\n",
              "          const element = document.querySelector('#df-330fe000-ec1a-4e3d-a80a-94107475b618');\n",
              "          const dataTable =\n",
              "            await google.colab.kernel.invokeFunction('convertToInteractive',\n",
              "                                                     [key], {});\n",
              "          if (!dataTable) return;\n",
              "\n",
              "          const docLinkHtml = 'Like what you see? Visit the ' +\n",
              "            '<a target=\"_blank\" href=https://colab.research.google.com/notebooks/data_table.ipynb>data table notebook</a>'\n",
              "            + ' to learn more about interactive tables.';\n",
              "          element.innerHTML = '';\n",
              "          dataTable['output_type'] = 'display_data';\n",
              "          await google.colab.output.renderOutput(dataTable, element);\n",
              "          const docLink = document.createElement('div');\n",
              "          docLink.innerHTML = docLinkHtml;\n",
              "          element.appendChild(docLink);\n",
              "        }\n",
              "      </script>\n",
              "    </div>\n",
              "  </div>\n",
              "  "
            ]
          },
          "metadata": {},
          "execution_count": 6
        }
      ]
    },
    {
      "cell_type": "code",
      "source": [
        "# вывод на экран общей информации о датасете\n",
        "data.info()"
      ],
      "metadata": {
        "colab": {
          "base_uri": "https://localhost:8080/"
        },
        "id": "5PZgqFyoLsew",
        "outputId": "6578424a-0cbd-4523-baf3-b3dc64b78086"
      },
      "execution_count": 7,
      "outputs": [
        {
          "output_type": "stream",
          "name": "stdout",
          "text": [
            "<class 'pandas.core.frame.DataFrame'>\n",
            "Int64Index: 2943 entries, 1 to 2943\n",
            "Data columns (total 6 columns):\n",
            " #   Column             Non-Null Count  Dtype  \n",
            "---  ------             --------------  -----  \n",
            " 0   date               2943 non-null   object \n",
            " 1   deviceCategory     2943 non-null   object \n",
            " 2   sourceMedium       2943 non-null   object \n",
            " 3   experimentVariant  2943 non-null   object \n",
            " 4   clickButtonOnMain  2943 non-null   int64  \n",
            " 5   sessionDuration    2943 non-null   float64\n",
            "dtypes: float64(1), int64(1), object(4)\n",
            "memory usage: 160.9+ KB\n"
          ]
        }
      ]
    },
    {
      "cell_type": "markdown",
      "source": [
        "## EDA"
      ],
      "metadata": {
        "id": "X-PX88ujNlEX"
      }
    },
    {
      "cell_type": "code",
      "source": [
        "# вывод на экран долей контрольной и тестовой выборок в датасете\n",
        "data.experimentVariant.value_counts(normalize = True).to_frame()"
      ],
      "metadata": {
        "colab": {
          "base_uri": "https://localhost:8080/",
          "height": 112
        },
        "id": "AcJ4sMkELjcw",
        "outputId": "dd731e46-10a6-4b0d-a756-f6216447b129"
      },
      "execution_count": 8,
      "outputs": [
        {
          "output_type": "execute_result",
          "data": {
            "text/plain": [
              "         experimentVariant\n",
              "control           0.504587\n",
              "test              0.495413"
            ],
            "text/html": [
              "\n",
              "  <div id=\"df-fec48dc2-dca7-4f57-b7a2-154f1e05a1fe\">\n",
              "    <div class=\"colab-df-container\">\n",
              "      <div>\n",
              "<style scoped>\n",
              "    .dataframe tbody tr th:only-of-type {\n",
              "        vertical-align: middle;\n",
              "    }\n",
              "\n",
              "    .dataframe tbody tr th {\n",
              "        vertical-align: top;\n",
              "    }\n",
              "\n",
              "    .dataframe thead th {\n",
              "        text-align: right;\n",
              "    }\n",
              "</style>\n",
              "<table border=\"1\" class=\"dataframe\">\n",
              "  <thead>\n",
              "    <tr style=\"text-align: right;\">\n",
              "      <th></th>\n",
              "      <th>experimentVariant</th>\n",
              "    </tr>\n",
              "  </thead>\n",
              "  <tbody>\n",
              "    <tr>\n",
              "      <th>control</th>\n",
              "      <td>0.504587</td>\n",
              "    </tr>\n",
              "    <tr>\n",
              "      <th>test</th>\n",
              "      <td>0.495413</td>\n",
              "    </tr>\n",
              "  </tbody>\n",
              "</table>\n",
              "</div>\n",
              "      <button class=\"colab-df-convert\" onclick=\"convertToInteractive('df-fec48dc2-dca7-4f57-b7a2-154f1e05a1fe')\"\n",
              "              title=\"Convert this dataframe to an interactive table.\"\n",
              "              style=\"display:none;\">\n",
              "        \n",
              "  <svg xmlns=\"http://www.w3.org/2000/svg\" height=\"24px\"viewBox=\"0 0 24 24\"\n",
              "       width=\"24px\">\n",
              "    <path d=\"M0 0h24v24H0V0z\" fill=\"none\"/>\n",
              "    <path d=\"M18.56 5.44l.94 2.06.94-2.06 2.06-.94-2.06-.94-.94-2.06-.94 2.06-2.06.94zm-11 1L8.5 8.5l.94-2.06 2.06-.94-2.06-.94L8.5 2.5l-.94 2.06-2.06.94zm10 10l.94 2.06.94-2.06 2.06-.94-2.06-.94-.94-2.06-.94 2.06-2.06.94z\"/><path d=\"M17.41 7.96l-1.37-1.37c-.4-.4-.92-.59-1.43-.59-.52 0-1.04.2-1.43.59L10.3 9.45l-7.72 7.72c-.78.78-.78 2.05 0 2.83L4 21.41c.39.39.9.59 1.41.59.51 0 1.02-.2 1.41-.59l7.78-7.78 2.81-2.81c.8-.78.8-2.07 0-2.86zM5.41 20L4 18.59l7.72-7.72 1.47 1.35L5.41 20z\"/>\n",
              "  </svg>\n",
              "      </button>\n",
              "      \n",
              "  <style>\n",
              "    .colab-df-container {\n",
              "      display:flex;\n",
              "      flex-wrap:wrap;\n",
              "      gap: 12px;\n",
              "    }\n",
              "\n",
              "    .colab-df-convert {\n",
              "      background-color: #E8F0FE;\n",
              "      border: none;\n",
              "      border-radius: 50%;\n",
              "      cursor: pointer;\n",
              "      display: none;\n",
              "      fill: #1967D2;\n",
              "      height: 32px;\n",
              "      padding: 0 0 0 0;\n",
              "      width: 32px;\n",
              "    }\n",
              "\n",
              "    .colab-df-convert:hover {\n",
              "      background-color: #E2EBFA;\n",
              "      box-shadow: 0px 1px 2px rgba(60, 64, 67, 0.3), 0px 1px 3px 1px rgba(60, 64, 67, 0.15);\n",
              "      fill: #174EA6;\n",
              "    }\n",
              "\n",
              "    [theme=dark] .colab-df-convert {\n",
              "      background-color: #3B4455;\n",
              "      fill: #D2E3FC;\n",
              "    }\n",
              "\n",
              "    [theme=dark] .colab-df-convert:hover {\n",
              "      background-color: #434B5C;\n",
              "      box-shadow: 0px 1px 3px 1px rgba(0, 0, 0, 0.15);\n",
              "      filter: drop-shadow(0px 1px 2px rgba(0, 0, 0, 0.3));\n",
              "      fill: #FFFFFF;\n",
              "    }\n",
              "  </style>\n",
              "\n",
              "      <script>\n",
              "        const buttonEl =\n",
              "          document.querySelector('#df-fec48dc2-dca7-4f57-b7a2-154f1e05a1fe button.colab-df-convert');\n",
              "        buttonEl.style.display =\n",
              "          google.colab.kernel.accessAllowed ? 'block' : 'none';\n",
              "\n",
              "        async function convertToInteractive(key) {\n",
              "          const element = document.querySelector('#df-fec48dc2-dca7-4f57-b7a2-154f1e05a1fe');\n",
              "          const dataTable =\n",
              "            await google.colab.kernel.invokeFunction('convertToInteractive',\n",
              "                                                     [key], {});\n",
              "          if (!dataTable) return;\n",
              "\n",
              "          const docLinkHtml = 'Like what you see? Visit the ' +\n",
              "            '<a target=\"_blank\" href=https://colab.research.google.com/notebooks/data_table.ipynb>data table notebook</a>'\n",
              "            + ' to learn more about interactive tables.';\n",
              "          element.innerHTML = '';\n",
              "          dataTable['output_type'] = 'display_data';\n",
              "          await google.colab.output.renderOutput(dataTable, element);\n",
              "          const docLink = document.createElement('div');\n",
              "          docLink.innerHTML = docLinkHtml;\n",
              "          element.appendChild(docLink);\n",
              "        }\n",
              "      </script>\n",
              "    </div>\n",
              "  </div>\n",
              "  "
            ]
          },
          "metadata": {},
          "execution_count": 8
        }
      ]
    },
    {
      "cell_type": "markdown",
      "source": [
        "Мы видим, что размеры контрольной и тестовой групп примерно одинаковые, т.е. по каждой группе нам доступно чуть меньше 1500 объектов."
      ],
      "metadata": {
        "id": "Z8SCbV-tLqR6"
      }
    },
    {
      "cell_type": "markdown",
      "source": [
        "### Доля кликов на целевую кнопку"
      ],
      "metadata": {
        "id": "2fNnMav_Nq_0"
      }
    },
    {
      "cell_type": "code",
      "source": [
        "# вывод на экран столбачтого графика доли кликов на целевую кнопку в каждой из групп\n",
        "fig = plt.figure(figsize = (8, 4))\n",
        "\n",
        "sns.barplot(data    = data,\n",
        "            x       = \"clickButtonOnMain\",\n",
        "            y       = \"experimentVariant\",\n",
        "            capsize = 0.2)\n",
        "\n",
        "plt.xlabel('')\n",
        "plt.ylabel('группа', fontsize = 14)\n",
        "\n",
        "fig.suptitle('Доля кликов', fontsize = 16)\n",
        "\n",
        "plt.tight_layout()\n",
        "plt.show()"
      ],
      "metadata": {
        "colab": {
          "base_uri": "https://localhost:8080/",
          "height": 407
        },
        "id": "kr2iEcP5x7ED",
        "outputId": "be809db5-926a-40ed-be7a-ab09571bf2c9"
      },
      "execution_count": 9,
      "outputs": [
        {
          "output_type": "display_data",
          "data": {
            "text/plain": [
              "<Figure size 800x400 with 1 Axes>"
            ],
            "image/png": "[encoded data removed]"
          },
          "metadata": {}
        }
      ]
    },
    {
      "cell_type": "markdown",
      "source": [
        "Мы видим, что:\n",
        "- в обоих группах:\n",
        "    - доля кликов относительно невысокая;\n",
        "    - 95%-е доверительные интервалы примерно равны и не пересекаются;\n",
        "- в тестовой группе доля кликов ниже (9% против 13%)."
      ],
      "metadata": {
        "id": "5brmK_ilcGd8"
      }
    },
    {
      "cell_type": "markdown",
      "source": [
        "### Время проведенное на сайте в рамках сеанса"
      ],
      "metadata": {
        "id": "SIz6KuLRQTeX"
      }
    },
    {
      "cell_type": "code",
      "source": [
        "# вывод на экран статистики и графиков распределения времени,\n",
        "# проведенного на сайте в рамках сеанса (для каждой из групп)\n",
        "palette = ['#e5ae38', '#6d904f']\n",
        "\n",
        "fig, ax = plt.subplots(nrows         = 2,\n",
        "                       ncols         = 2,\n",
        "                       figsize       = (12, 5),\n",
        "                       height_ratios = (3, 1),\n",
        "                       width_ratios  = (6, 4),\n",
        "                       sharex        = 'col')\n",
        "\n",
        "ax = ax.flatten()\n",
        "\n",
        "cis_left = []\n",
        "cis_right = []\n",
        "\n",
        "for group, color in zip(data.experimentVariant.unique(), palette):\n",
        "    group_data = data[data.experimentVariant == group]\n",
        "    group_mean = np.mean(group_data.sessionDuration)\n",
        "    group_std  = np.std(group_data.sessionDuration, ddof = 1)\n",
        "    group_se   = group_std / np.sqrt(len(group_data))\n",
        "\n",
        "    g = sns.kdeplot(data        = group_data,\n",
        "                    x           = 'sessionDuration',\n",
        "                    common_norm = False,\n",
        "                    color       = color,\n",
        "                    ax          = ax[0])\n",
        "\n",
        "    x = g.lines[-1].get_xdata()\n",
        "    y = g.lines[-1].get_ydata()\n",
        "\n",
        "    ci_left = group_mean - group_se * 2\n",
        "    ci_right = group_mean + group_se * 2\n",
        "\n",
        "    cis_left.append(np.round(ci_left, 2))\n",
        "    cis_right.append(np.round(ci_right, 2))\n",
        "\n",
        "    g.fill_between(x,\n",
        "                   y,\n",
        "                   0,\n",
        "                   where = (x > ci_left) & (x < ci_right),\n",
        "                   color = color,\n",
        "                   alpha = 0.5,\n",
        "                   label = f'{group} 95% CI')\n",
        "\n",
        "ax[0].legend(labels = ['control', 'control 95% CI', 'test', 'test 95% CI'],\n",
        "             loc            = 'upper right',\n",
        "             frameon        = False,\n",
        "             fontsize       = 'small')\n",
        "\n",
        "ax[0].set_ylabel('density', fontsize = 14)\n",
        "\n",
        "feature_stats = data.groupby('experimentVariant').sessionDuration.describe().T.round(2).reset_index()\n",
        "feature_stats.rename(columns = {'index' : 'stats'},\n",
        "                     inplace = True)\n",
        "\n",
        "feature_stats.loc[len(feature_stats.index)] = ['95% CI left'] + cis_left\n",
        "feature_stats.loc[len(feature_stats.index)] = ['95% CI right'] + cis_right\n",
        "\n",
        "feature_stats = feature_stats.iloc[[0, 1, 2, 3, 5, 7, 8, 9], :]\n",
        "\n",
        "the_table = ax[1].table(cellText  = feature_stats.values,\n",
        "                        colLabels = feature_stats.columns,\n",
        "                        bbox      = (0, 0, 0.9, 1),\n",
        "                        colWidths = [0.3, 0.35, 0.35],\n",
        "                        edges     = 'horizontal')\n",
        "\n",
        "the_table.auto_set_font_size(False)\n",
        "the_table.set_fontsize(14)\n",
        "\n",
        "for k, cell in six.iteritems(the_table._cells):\n",
        "    if k[1] == 0: cell.set_text_props(ha = 'left')\n",
        "    else: cell.set_text_props(ha = 'right')\n",
        "    if k[0] == 0 or k[1] == 0: cell.set_text_props(weight = 'bold')\n",
        "\n",
        "ax[1].axis('off')\n",
        "\n",
        "sns.boxplot(data       = data,\n",
        "            x          = 'sessionDuration',\n",
        "            y          = 'experimentVariant',\n",
        "            palette    = palette,\n",
        "            saturation = 1,\n",
        "            ax         = ax[2])\n",
        "\n",
        "ax[2].set_xlabel('')\n",
        "ax[2].set_ylabel('группа', fontsize = 14)\n",
        "\n",
        "ax[3].axis('off')\n",
        "\n",
        "fig.suptitle('Время проведенное на сайте в рамках сеанса',\n",
        "             fontsize   = 16,\n",
        "             fontweight = 'bold')\n",
        "\n",
        "plt.tight_layout()\n",
        "plt.show()"
      ],
      "metadata": {
        "colab": {
          "base_uri": "https://localhost:8080/",
          "height": 506
        },
        "id": "O0FpwDf9QaOI",
        "outputId": "faf84a87-b576-46c5-e6da-07084196a989"
      },
      "execution_count": 10,
      "outputs": [
        {
          "output_type": "display_data",
          "data": {
            "text/plain": [
              "<Figure size 1200x500 with 4 Axes>"
            ],
            "image/png": "[encoded data removed]"
          },
          "metadata": {}
        }
      ]
    },
    {
      "cell_type": "markdown",
      "source": [
        "Мы видим, что:\n",
        "\n",
        "- в обеих группах:\n",
        "    - распределение значений признака `sessionDuration` похоже на нормальное распределение;\n",
        "    - есть небольшое количество выбросов;\n",
        "    - 95%-е доверительные интервалы достаточно маленькие (благодаря большому количеству объектов) и не пересекаются;\n",
        "\n",
        "- в тестовой группе:\n",
        "    - больше среднее значение метрики (133 против 120);\n",
        "    - вдвое больше стандартное отклонение (9.7 против 5.2)."
      ],
      "metadata": {
        "id": "0HpB9BgxVzq3"
      }
    },
    {
      "cell_type": "markdown",
      "source": [
        "## Проверка гипотез"
      ],
      "metadata": {
        "id": "NImyc04hH_f6"
      }
    },
    {
      "cell_type": "markdown",
      "source": [
        "На данном этапе проверим две гипотезы:\n",
        "\n",
        "1. Есть ли значимое изменение в большую или меньшую сторону у клика на целевую кнопку?\n",
        "2. Изменилось ли время проведенное на сайте в рамках сеанса?\n",
        "\n",
        "Для проверки обеих гипотез установим уровень значимости 95% и соответствующее ему значение α = 0.05"
      ],
      "metadata": {
        "id": "gVaERfJzgUEt"
      }
    },
    {
      "cell_type": "code",
      "source": [
        "# установление значения alpha\n",
        "ALPHA = 0.05"
      ],
      "metadata": {
        "id": "ub1EpNSkg9yc"
      },
      "execution_count": 11,
      "outputs": []
    },
    {
      "cell_type": "markdown",
      "source": [
        "### Есть ли значимое изменение в большую или меньшую сторону у клика на целевую кнопку"
      ],
      "metadata": {
        "id": "n16VIQGVIFqV"
      }
    },
    {
      "cell_type": "markdown",
      "source": [
        "В ходе EDA мы установили, что в тестовой группе ниже доля кликов на целевую кнопку.\n",
        "\n",
        "Мы хотим сравнить доли кликов на целевую кнопку в двух группах и имеем дело с распределением Бернулли, а также имеем достаточно достаточно наблюдений (>30 на варианту), поэтому для проверки гипотезы используем двухпропорционный z-тест.\n",
        "\n",
        "Сформулируем нулевую и альтернативную гипотезы:\n",
        "- **нулевая гипотеза**: доли кликов на целевую кнопку в контрольной и тестовой группах равны;\n",
        "- **альтернативная гипотеза**: доли кликов на целевую кнопку в контрольной и тестовой группах различаются."
      ],
      "metadata": {
        "id": "SSZHpX98a64b"
      }
    },
    {
      "cell_type": "code",
      "source": [
        "# расчет количества объектов и кликов для каждой группы\n",
        "clickButtonOnMain_agg = data.groupby('experimentVariant')['clickButtonOnMain'].agg(['sum', 'count']).T.values\n",
        "count = clickButtonOnMain_agg[0,:]\n",
        "nobs = clickButtonOnMain_agg[1,:]"
      ],
      "metadata": {
        "id": "hjH9rXWiMwPd"
      },
      "execution_count": 12,
      "outputs": []
    },
    {
      "cell_type": "code",
      "source": [
        "# проведение z-теста пропорций\n",
        "stat, pval = proportions_ztest(count, nobs)\n",
        "print(f'p-value {np.round(pval, 3)} is less than alpha: {pval < ALPHA}')"
      ],
      "metadata": {
        "colab": {
          "base_uri": "https://localhost:8080/"
        },
        "id": "0wUWrdQAMloY",
        "outputId": "ac1b6129-6ffe-41b0-8a6a-3f9e0af3beb4"
      },
      "execution_count": 13,
      "outputs": [
        {
          "output_type": "stream",
          "name": "stdout",
          "text": [
            "p-value 0.001 is less than alpha: True\n"
          ]
        }
      ]
    },
    {
      "cell_type": "markdown",
      "source": [
        "Полученный p-value (0.001) меньше установленного значения α (0.05), поэтому на уровне значимости 95% мы можем отвергуть нулевую гипотезу о равенстве долей кликов на целевую кнопку в контрольной и тестовой группах в пользу альтернативной гипотезы об их различии (в тестовой группе ниже доля кликов)."
      ],
      "metadata": {
        "id": "Y_nNNGm-aJrg"
      }
    },
    {
      "cell_type": "markdown",
      "source": [
        "### Изменилось ли время проведенное на сайте в рамках сеанса"
      ],
      "metadata": {
        "id": "A0PjdzvkNcko"
      }
    },
    {
      "cell_type": "markdown",
      "source": [
        "В ходе EDA мы установили, что в тестовой группе больше среднее время, проведенное на сайте в рамках сеанса.\n",
        "\n",
        "Мы предположительно имеем дело с нормальным распределением, хотим сравнить средние значения, а также имеем достаточно достаточно наблюдений (>30 на варианту), поэтому для проверки гипотезы используем двухсторонний t-тест.\n",
        "\n",
        "Сформулируем нулевую и альтернативную гипотезы:\n",
        "\n",
        "- **нулевая гипотеза**: время, проведенное на сайте в рамках сеанса, в контрольной и тестовой группах равно;\n",
        "- **альтернативная гипотеза**: время, проведенное на сайте в рамках сеанса, в контрольной и тестовой группах различается."
      ],
      "metadata": {
        "id": "f9XkAJt87Hnm"
      }
    },
    {
      "cell_type": "code",
      "source": [
        "# сохранение в отдельные переменные времени, проведенного пользователями\n",
        "# каждой группы на сайте в рамках сеанса\n",
        "control_sessionDuration = data[data.experimentVariant == 'control'].sessionDuration\n",
        "test_sessionDuration = data[data.experimentVariant == 'test'].sessionDuration"
      ],
      "metadata": {
        "id": "6JVdatLsn2m-"
      },
      "execution_count": 14,
      "outputs": []
    },
    {
      "cell_type": "code",
      "source": [
        "# проведение t-теста\n",
        "stat, pval = stats.ttest_ind(control_sessionDuration, test_sessionDuration, equal_var = False)\n",
        "print(f'p-value {np.round(pval, 3)} is less than alpha: {pval < ALPHA}')"
      ],
      "metadata": {
        "colab": {
          "base_uri": "https://localhost:8080/"
        },
        "id": "nB-LUcPwp6Jv",
        "outputId": "c39234cb-dd14-4267-912e-bbbce5293e65"
      },
      "execution_count": 15,
      "outputs": [
        {
          "output_type": "stream",
          "name": "stdout",
          "text": [
            "p-value 0.0 is less than alpha: True\n"
          ]
        }
      ]
    },
    {
      "cell_type": "markdown",
      "source": [
        "Полученный p-value (менее 0.001)  меньше установленного значения α (0.05), поэтому на уровне значимости 95% мы можем отвергуть нулевую гипотезу о равенстве времени, проведенного на сайте в рамках сеанса, в контрольной и тестовой группах, в пользу альтернативной гипотезы об его различии (в тестовой группе больше среднее время, проведенное на сайте в рамках сеанса)."
      ],
      "metadata": {
        "id": "EZEPIx7d8RtN"
      }
    },
    {
      "cell_type": "markdown",
      "source": [
        "## Общие выводы"
      ],
      "metadata": {
        "id": "h8jGmxQL-3WN"
      }
    },
    {
      "cell_type": "markdown",
      "source": [
        "В ходе работы над кейсом мы проанализировали результаты эксперимента по редизайну кнопки на главной странице сервиса подписки аналитику в соц. сетях и проверили две гипотезы:\n",
        "\n",
        "- есть ли значимое изменение в большую или меньшую сторону у клика на целевую кнопку;\n",
        "- изменилось ли время проведенное на сайте в рамках сеанса.\n",
        "\n",
        "**EDA**\n",
        "\n",
        "*Доля кликов на целевую кнопку*\n",
        "\n",
        "- в обоих группах:\n",
        "    - доля кликов относительно невысокая;\n",
        "    - 95%-е доверительные интервалы примерно равны и не пересекаются;\n",
        "- в тестовой группе доля кликов ниже (9% против 13%).\n",
        "\n",
        "*Время проведенное на сайте в рамках сеанса*\n",
        "\n",
        "- в обеих группах:\n",
        "    - распределение значений признака `sessionDuration` похоже на нормальное распределение;\n",
        "    - есть небольшое количество выбросов;\n",
        "    - 95%-е доверительные интервалы достаточно маленькие (благодаря большому количеству объектов) и не пересекаются;\n",
        "\n",
        "- в тестовой группе:\n",
        "    - больше среднее значение метрики (133 против 120);\n",
        "    - вдвое больше стандартное отклонение (9.7 против 5.2).\n",
        "\n",
        "**Проверка гипотез**\n",
        "\n",
        "Для проверки обеих гипотез мы установили уровень значимости 95% и соответствующее ему значение α = 0.05\n",
        "\n",
        "*Есть ли значимое изменение в большую или меньшую сторону у клика на целевую кнопку*\n",
        "\n",
        "В ходе EDA мы установили, что в тестовой группе ниже доля кликов на целевую кнопку.\n",
        "\n",
        "Мы решили использовать двухпропорционный z-тест, поскольку:\n",
        "\n",
        "- мы хотели сравнить доли кликов на целевую кнопку в двух группах;\n",
        "- мы имеем дело с распределением Бернулли;\n",
        "- мы имеем достаточно достаточно наблюдений (>30 на варианту).\n",
        "\n",
        "Мы сформулировли нулевую и альтернативную гипотезы:\n",
        "\n",
        "- **нулевая гипотеза**: доли кликов на целевую кнопку в контрольной и тестовой группах равны;\n",
        "- **альтернативная гипотеза**: доли кликов на целевую кнопку в контрольной и тестовой группах различаются.\n",
        "\n",
        "Полученный p-value (0.001) меньше установленного значения α (0.05), поэтому на уровне значимости 95% мы смогли отвергуть нулевую гипотезу о равенстве долей кликов на целевую кнопку в контрольной и тестовой группах в пользу альтернативной гипотезы об их различии (в тестовой группе ниже доля кликов).\n",
        "\n",
        "*Изменилось ли время проведенное на сайте в рамках сеанса*\n",
        "\n",
        "Мы решили использовать двухсторонний t-тест, поскольку:\n",
        "\n",
        "- мы предположительно имеем дело с нормальным распределением;\n",
        "- мы хотим сравнить средние значения;\n",
        "- мы имеем достаточно достаточно наблюдений (>30 на варианту).\n",
        "\n",
        "Мы сформулировли нулевую и альтернативную гипотезы:\n",
        "\n",
        "- **нулевая гипотеза**: время, проведенное на сайте в рамках сеанса, в контрольной и тестовой группах равно;\n",
        "- **альтернативная гипотеза**: время, проведенное на сайте в рамках сеанса, в контрольной и тестовой группах различается.\n",
        "\n",
        "Полученный p-value (менее 0.001)  меньше установленного значения α (0.05), поэтому на уровне значимости 95% мы смогли отвергуть нулевую гипотезу о равенстве времени, проведенного на сайте в рамках сеанса, в контрольной и тестовой группах, в пользу альтернативной гипотезы об его различии (в тестовой группе больше среднее время, проведенное на сайте в рамках сеанса).\n",
        "\n",
        "В результате проведения тестов мы смогли отвергнуть обе нулевых гипотезы, поэтому мы можем считать результаты проведенного эксперимента успешными."
      ],
      "metadata": {
        "id": "cCPw0qiJBM76"
      }
    },
    {
      "cell_type": "code",
      "source": [],
      "metadata": {
        "id": "yWPEtFIBxeIR"
      },
      "execution_count": 15,
      "outputs": []
    }
  ]
}